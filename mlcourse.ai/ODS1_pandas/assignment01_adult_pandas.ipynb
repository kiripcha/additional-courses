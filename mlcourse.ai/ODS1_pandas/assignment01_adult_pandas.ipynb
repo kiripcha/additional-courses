{
 "cells": [
  {
   "cell_type": "markdown",
   "metadata": {},
   "source": [
    "\n",
    "<img src=\"../../img/ods_stickers.jpg\">\n",
    "\n",
    "## <center> [mlcourse.ai](https://mlcourse.ai) – открытый курс OpenDataScience по машинному обучению \n",
    "\n",
    "Автор материала: Юрий Кашницкий (@yorko в Slack ODS). Материал распространяется на условиях лицензии [Creative Commons CC BY-NC-SA 4.0](https://creativecommons.org/licenses/by-nc-sa/4.0/). Можно использовать в любых целях (редактировать, поправлять и брать за основу), кроме коммерческих, но с обязательным упоминанием автора материала."
   ]
  },
  {
   "cell_type": "markdown",
   "metadata": {},
   "source": [
    "# <center>Домашнее задание № 1 (демо).<br> Анализ данных по доходу населения UCI Adult</center>"
   ]
  },
  {
   "cell_type": "markdown",
   "metadata": {},
   "source": [
    "**В задании предлагается с помощью Pandas ответить на несколько вопросов по данным репозитория UCI [Adult](https://archive.ics.uci.edu/ml/datasets/Adult) (качать данные не надо – они уже есть в репозитории). Для отправки решений используйте [онлайн-форму](https://docs.google.com/forms/d/1xAzU-5N6oEeR4UG8G44V6XL-Kbr4WYcPBG45Kijge2Y).**"
   ]
  },
  {
   "cell_type": "markdown",
   "metadata": {},
   "source": [
    "Уникальные значения признаков (больше информации по ссылке выше):\n",
    "- age: continuous.\n",
    "- workclass: Private, Self-emp-not-inc, Self-emp-inc, Federal-gov, Local-gov, State-gov, Without-pay, Never-worked.\n",
    "- fnlwgt: continuous.\n",
    "- education: Bachelors, Some-college, 11th, HS-grad, Prof-school, Assoc-acdm, Assoc-voc, 9th, 7th-8th, 12th, Masters, 1st-4th, 10th, Doctorate, 5th-6th, Preschool.\n",
    "- education-num: continuous.\n",
    "- marital-status: Married-civ-spouse, Divorced, Never-married, Separated, Widowed, Married-spouse-absent, Married-AF-spouse.\n",
    "- occupation: Tech-support, Craft-repair, Other-service, Sales, Exec-managerial, Prof-specialty, Handlers-cleaners, Machine-op-inspct, Adm-clerical, Farming-fishing, Transport-moving, Priv-house-serv, Protective-serv, Armed-Forces.\n",
    "- relationship: Wife, Own-child, Husband, Not-in-family, Other-relative, Unmarried.\n",
    "- race: White, Asian-Pac-Islander, Amer-Indian-Eskimo, Other, Black.\n",
    "- sex: Female, Male.\n",
    "- capital-gain: continuous.\n",
    "- capital-loss: continuous.\n",
    "- hours-per-week: continuous.\n",
    "- native-country: United-States, Cambodia, England, Puerto-Rico, Canada, Germany, Outlying-US(Guam-USVI-etc), India, Japan, Greece, South, China, Cuba, Iran, Honduras, Philippines, Italy, Poland, Jamaica, Vietnam, Mexico, Portugal, Ireland, France, Dominican-Republic, Laos, Ecuador, Taiwan, Haiti, Columbia, Hungary, Guatemala, Nicaragua, Scotland, Thailand, Yugoslavia, El-Salvador, Trinadad&Tobago, Peru, Hong, Holand-Netherlands.   \n",
    "- salary: >50K,<=50K"
   ]
  },
  {
   "cell_type": "code",
   "execution_count": 22,
   "metadata": {},
   "outputs": [],
   "source": [
    "import pandas as pd\n",
    "import numpy as np"
   ]
  },
  {
   "cell_type": "code",
   "execution_count": 3,
   "metadata": {},
   "outputs": [
    {
     "data": {
      "text/html": [
       "<div>\n",
       "<style scoped>\n",
       "    .dataframe tbody tr th:only-of-type {\n",
       "        vertical-align: middle;\n",
       "    }\n",
       "\n",
       "    .dataframe tbody tr th {\n",
       "        vertical-align: top;\n",
       "    }\n",
       "\n",
       "    .dataframe thead th {\n",
       "        text-align: right;\n",
       "    }\n",
       "</style>\n",
       "<table border=\"1\" class=\"dataframe\">\n",
       "  <thead>\n",
       "    <tr style=\"text-align: right;\">\n",
       "      <th></th>\n",
       "      <th>age</th>\n",
       "      <th>workclass</th>\n",
       "      <th>fnlwgt</th>\n",
       "      <th>education</th>\n",
       "      <th>education-num</th>\n",
       "      <th>marital-status</th>\n",
       "      <th>occupation</th>\n",
       "      <th>relationship</th>\n",
       "      <th>race</th>\n",
       "      <th>sex</th>\n",
       "      <th>capital-gain</th>\n",
       "      <th>capital-loss</th>\n",
       "      <th>hours-per-week</th>\n",
       "      <th>native-country</th>\n",
       "      <th>salary</th>\n",
       "    </tr>\n",
       "  </thead>\n",
       "  <tbody>\n",
       "    <tr>\n",
       "      <th>0</th>\n",
       "      <td>39</td>\n",
       "      <td>State-gov</td>\n",
       "      <td>77516</td>\n",
       "      <td>Bachelors</td>\n",
       "      <td>13</td>\n",
       "      <td>Never-married</td>\n",
       "      <td>Adm-clerical</td>\n",
       "      <td>Not-in-family</td>\n",
       "      <td>White</td>\n",
       "      <td>Male</td>\n",
       "      <td>2174</td>\n",
       "      <td>0</td>\n",
       "      <td>40</td>\n",
       "      <td>United-States</td>\n",
       "      <td>&lt;=50K</td>\n",
       "    </tr>\n",
       "    <tr>\n",
       "      <th>1</th>\n",
       "      <td>50</td>\n",
       "      <td>Self-emp-not-inc</td>\n",
       "      <td>83311</td>\n",
       "      <td>Bachelors</td>\n",
       "      <td>13</td>\n",
       "      <td>Married-civ-spouse</td>\n",
       "      <td>Exec-managerial</td>\n",
       "      <td>Husband</td>\n",
       "      <td>White</td>\n",
       "      <td>Male</td>\n",
       "      <td>0</td>\n",
       "      <td>0</td>\n",
       "      <td>13</td>\n",
       "      <td>United-States</td>\n",
       "      <td>&lt;=50K</td>\n",
       "    </tr>\n",
       "    <tr>\n",
       "      <th>2</th>\n",
       "      <td>38</td>\n",
       "      <td>Private</td>\n",
       "      <td>215646</td>\n",
       "      <td>HS-grad</td>\n",
       "      <td>9</td>\n",
       "      <td>Divorced</td>\n",
       "      <td>Handlers-cleaners</td>\n",
       "      <td>Not-in-family</td>\n",
       "      <td>White</td>\n",
       "      <td>Male</td>\n",
       "      <td>0</td>\n",
       "      <td>0</td>\n",
       "      <td>40</td>\n",
       "      <td>United-States</td>\n",
       "      <td>&lt;=50K</td>\n",
       "    </tr>\n",
       "    <tr>\n",
       "      <th>3</th>\n",
       "      <td>53</td>\n",
       "      <td>Private</td>\n",
       "      <td>234721</td>\n",
       "      <td>11th</td>\n",
       "      <td>7</td>\n",
       "      <td>Married-civ-spouse</td>\n",
       "      <td>Handlers-cleaners</td>\n",
       "      <td>Husband</td>\n",
       "      <td>Black</td>\n",
       "      <td>Male</td>\n",
       "      <td>0</td>\n",
       "      <td>0</td>\n",
       "      <td>40</td>\n",
       "      <td>United-States</td>\n",
       "      <td>&lt;=50K</td>\n",
       "    </tr>\n",
       "    <tr>\n",
       "      <th>4</th>\n",
       "      <td>28</td>\n",
       "      <td>Private</td>\n",
       "      <td>338409</td>\n",
       "      <td>Bachelors</td>\n",
       "      <td>13</td>\n",
       "      <td>Married-civ-spouse</td>\n",
       "      <td>Prof-specialty</td>\n",
       "      <td>Wife</td>\n",
       "      <td>Black</td>\n",
       "      <td>Female</td>\n",
       "      <td>0</td>\n",
       "      <td>0</td>\n",
       "      <td>40</td>\n",
       "      <td>Cuba</td>\n",
       "      <td>&lt;=50K</td>\n",
       "    </tr>\n",
       "  </tbody>\n",
       "</table>\n",
       "</div>"
      ],
      "text/plain": [
       "   age         workclass  fnlwgt  education  education-num  \\\n",
       "0   39         State-gov   77516  Bachelors             13   \n",
       "1   50  Self-emp-not-inc   83311  Bachelors             13   \n",
       "2   38           Private  215646    HS-grad              9   \n",
       "3   53           Private  234721       11th              7   \n",
       "4   28           Private  338409  Bachelors             13   \n",
       "\n",
       "       marital-status         occupation   relationship   race     sex  \\\n",
       "0       Never-married       Adm-clerical  Not-in-family  White    Male   \n",
       "1  Married-civ-spouse    Exec-managerial        Husband  White    Male   \n",
       "2            Divorced  Handlers-cleaners  Not-in-family  White    Male   \n",
       "3  Married-civ-spouse  Handlers-cleaners        Husband  Black    Male   \n",
       "4  Married-civ-spouse     Prof-specialty           Wife  Black  Female   \n",
       "\n",
       "   capital-gain  capital-loss  hours-per-week native-country salary  \n",
       "0          2174             0              40  United-States  <=50K  \n",
       "1             0             0              13  United-States  <=50K  \n",
       "2             0             0              40  United-States  <=50K  \n",
       "3             0             0              40  United-States  <=50K  \n",
       "4             0             0              40           Cuba  <=50K  "
      ]
     },
     "execution_count": 3,
     "metadata": {},
     "output_type": "execute_result"
    }
   ],
   "source": [
    "data = pd.read_csv(\"./data/adult.data.csv\")\n",
    "data.head()"
   ]
  },
  {
   "cell_type": "markdown",
   "metadata": {},
   "source": [
    "**1. Сколько мужчин и женщин (признак *sex*) представлено в этом наборе данных?**"
   ]
  },
  {
   "cell_type": "code",
   "execution_count": 6,
   "metadata": {},
   "outputs": [
    {
     "data": {
      "text/plain": [
       "21790"
      ]
     },
     "execution_count": 6,
     "metadata": {},
     "output_type": "execute_result"
    }
   ],
   "source": [
    "len(data[data['sex']=='Male'])"
   ]
  },
  {
   "cell_type": "code",
   "execution_count": 7,
   "metadata": {},
   "outputs": [
    {
     "data": {
      "text/plain": [
       "10771"
      ]
     },
     "execution_count": 7,
     "metadata": {},
     "output_type": "execute_result"
    }
   ],
   "source": [
    "len(data[data['sex']=='Female'])"
   ]
  },
  {
   "cell_type": "markdown",
   "metadata": {},
   "source": [
    "Решение"
   ]
  },
  {
   "cell_type": "code",
   "execution_count": 85,
   "metadata": {},
   "outputs": [
    {
     "data": {
      "text/plain": [
       "Male      21790\n",
       "Female    10771\n",
       "Name: sex, dtype: int64"
      ]
     },
     "execution_count": 85,
     "metadata": {},
     "output_type": "execute_result"
    }
   ],
   "source": [
    "data[\"sex\"].value_counts()"
   ]
  },
  {
   "cell_type": "markdown",
   "metadata": {},
   "source": [
    "**2. Каков средний возраст (признак *age*) женщин?**"
   ]
  },
  {
   "cell_type": "code",
   "execution_count": 8,
   "metadata": {},
   "outputs": [
    {
     "data": {
      "text/plain": [
       "36.85823043357163"
      ]
     },
     "execution_count": 8,
     "metadata": {},
     "output_type": "execute_result"
    }
   ],
   "source": [
    "data[data['sex']=='Female']['age'].mean()"
   ]
  },
  {
   "cell_type": "markdown",
   "metadata": {},
   "source": [
    "Решение"
   ]
  },
  {
   "cell_type": "code",
   "execution_count": 87,
   "metadata": {},
   "outputs": [
    {
     "data": {
      "text/plain": [
       "36.85823043357163"
      ]
     },
     "execution_count": 87,
     "metadata": {},
     "output_type": "execute_result"
    }
   ],
   "source": [
    "data[data[\"sex\"] == \"Female\"][\"age\"].mean()"
   ]
  },
  {
   "cell_type": "markdown",
   "metadata": {},
   "source": [
    "**3. Какова доля граждан Германии (признак *native-country*)?**"
   ]
  },
  {
   "cell_type": "code",
   "execution_count": 10,
   "metadata": {},
   "outputs": [
    {
     "data": {
      "text/plain": [
       "0.004207487485028101"
      ]
     },
     "execution_count": 10,
     "metadata": {},
     "output_type": "execute_result"
    }
   ],
   "source": [
    "len(data[data['native-country']=='Germany'])/len(data)"
   ]
  },
  {
   "cell_type": "markdown",
   "metadata": {},
   "source": [
    "Решение"
   ]
  },
  {
   "cell_type": "code",
   "execution_count": 88,
   "metadata": {},
   "outputs": [
    {
     "data": {
      "text/plain": [
       "0.004207487485028101"
      ]
     },
     "execution_count": 88,
     "metadata": {},
     "output_type": "execute_result"
    }
   ],
   "source": [
    "float((data[\"native-country\"] == \"Germany\").sum()) / data.shape[0]"
   ]
  },
  {
   "cell_type": "markdown",
   "metadata": {},
   "source": [
    "**4-5. Каковы средние значения и среднеквадратичные отклонения возраста тех, кто получает более 50K в год (признак *salary*) и тех, кто получает менее 50K в год? **"
   ]
  },
  {
   "cell_type": "code",
   "execution_count": 12,
   "metadata": {},
   "outputs": [
    {
     "data": {
      "text/plain": [
       "array(['<=50K', '>50K'], dtype=object)"
      ]
     },
     "execution_count": 12,
     "metadata": {},
     "output_type": "execute_result"
    }
   ],
   "source": [
    "data['salary'].unique()"
   ]
  },
  {
   "cell_type": "code",
   "execution_count": 15,
   "metadata": {},
   "outputs": [
    {
     "data": {
      "text/plain": [
       "count    7841.000000\n",
       "mean       44.249841\n",
       "std        10.519028\n",
       "min        19.000000\n",
       "25%        36.000000\n",
       "50%        44.000000\n",
       "75%        51.000000\n",
       "max        90.000000\n",
       "Name: age, dtype: float64"
      ]
     },
     "execution_count": 15,
     "metadata": {},
     "output_type": "execute_result"
    }
   ],
   "source": [
    "data[data['salary']=='>50K']['age'].describe()"
   ]
  },
  {
   "cell_type": "code",
   "execution_count": 16,
   "metadata": {},
   "outputs": [
    {
     "data": {
      "text/plain": [
       "count    24720.000000\n",
       "mean        36.783738\n",
       "std         14.020088\n",
       "min         17.000000\n",
       "25%         25.000000\n",
       "50%         34.000000\n",
       "75%         46.000000\n",
       "max         90.000000\n",
       "Name: age, dtype: float64"
      ]
     },
     "execution_count": 16,
     "metadata": {},
     "output_type": "execute_result"
    }
   ],
   "source": [
    "data[data['salary']=='<=50K']['age'].describe()"
   ]
  },
  {
   "cell_type": "markdown",
   "metadata": {},
   "source": [
    "Решение"
   ]
  },
  {
   "cell_type": "code",
   "execution_count": 89,
   "metadata": {},
   "outputs": [
    {
     "name": "stdout",
     "output_type": "stream",
     "text": [
      "The average age of the rich: 44 +- 10.5 years, poor - 37 +- 14.0 years.\n"
     ]
    }
   ],
   "source": [
    "ages1 = data[data[\"salary\"] == \">50K\"][\"age\"]\n",
    "ages2 = data[data[\"salary\"] == \"<=50K\"][\"age\"]\n",
    "print(\n",
    "    \"The average age of the rich: {0} +- {1} years, poor - {2} +- {3} years.\".format(\n",
    "        round(ages1.mean()),\n",
    "        round(ages1.std(), 1),\n",
    "        round(ages2.mean()),\n",
    "        round(ages2.std(), 1),\n",
    "    )\n",
    ")"
   ]
  },
  {
   "cell_type": "markdown",
   "metadata": {},
   "source": [
    "**6. Правда ли, что люди, которые получают больше 50k, имеют как минимум высшее образование? (признак *education – Bachelors, Prof-school, Assoc-acdm, Assoc-voc, Masters* или *Doctorate*)**"
   ]
  },
  {
   "cell_type": "code",
   "execution_count": 19,
   "metadata": {},
   "outputs": [
    {
     "name": "stdout",
     "output_type": "stream",
     "text": [
      "10th\n",
      "11th\n",
      "12th\n",
      "1st-4th\n",
      "5th-6th\n",
      "7th-8th\n",
      "9th\n",
      "Assoc-acdm\n",
      "Assoc-voc\n",
      "Bachelors\n",
      "Doctorate\n",
      "HS-grad\n",
      "Masters\n",
      "Preschool\n",
      "Prof-school\n",
      "Some-college\n"
     ]
    }
   ],
   "source": [
    "for degree, sub_df in data.groupby('education'):\n",
    "    print(degree)\n",
    "#     print(sub_df.sample(2))"
   ]
  },
  {
   "cell_type": "code",
   "execution_count": 35,
   "metadata": {},
   "outputs": [],
   "source": [
    "from scipy import stats"
   ]
  },
  {
   "cell_type": "code",
   "execution_count": 37,
   "metadata": {},
   "outputs": [
    {
     "data": {
      "text/plain": [
       "education\n",
       "10th             ([<=50K], [871])\n",
       "11th            ([<=50K], [1115])\n",
       "12th             ([<=50K], [400])\n",
       "1st-4th          ([<=50K], [162])\n",
       "5th-6th          ([<=50K], [317])\n",
       "7th-8th          ([<=50K], [606])\n",
       "9th              ([<=50K], [487])\n",
       "Assoc-acdm       ([<=50K], [802])\n",
       "Assoc-voc       ([<=50K], [1021])\n",
       "Bachelors       ([<=50K], [3134])\n",
       "Doctorate         ([>50K], [306])\n",
       "HS-grad         ([<=50K], [8826])\n",
       "Masters           ([>50K], [959])\n",
       "Preschool         ([<=50K], [51])\n",
       "Prof-school       ([>50K], [423])\n",
       "Some-college    ([<=50K], [5904])\n",
       "Name: salary, dtype: object"
      ]
     },
     "execution_count": 37,
     "metadata": {},
     "output_type": "execute_result"
    }
   ],
   "source": [
    "data.groupby('education')['salary'].agg(stats.mode)"
   ]
  },
  {
   "cell_type": "code",
   "execution_count": 40,
   "metadata": {},
   "outputs": [
    {
     "data": {
      "text/plain": [
       "education\n",
       "10th              ([>50K], [62])\n",
       "11th              ([>50K], [60])\n",
       "12th              ([>50K], [33])\n",
       "1st-4th            ([>50K], [6])\n",
       "5th-6th           ([>50K], [16])\n",
       "7th-8th           ([>50K], [40])\n",
       "9th               ([>50K], [27])\n",
       "Assoc-acdm       ([>50K], [265])\n",
       "Assoc-voc        ([>50K], [361])\n",
       "Bachelors       ([>50K], [2221])\n",
       "Doctorate        ([>50K], [306])\n",
       "HS-grad         ([>50K], [1675])\n",
       "Masters          ([>50K], [959])\n",
       "Prof-school      ([>50K], [423])\n",
       "Some-college    ([>50K], [1387])\n",
       "Name: salary, dtype: object"
      ]
     },
     "execution_count": 40,
     "metadata": {},
     "output_type": "execute_result"
    }
   ],
   "source": [
    "data[data['salary']=='>50K'].groupby('education')['salary'].agg(stats.mode)"
   ]
  },
  {
   "cell_type": "markdown",
   "metadata": {},
   "source": [
    "Решение"
   ]
  },
  {
   "cell_type": "code",
   "execution_count": 90,
   "metadata": {},
   "outputs": [
    {
     "data": {
      "text/plain": [
       "array(['HS-grad', 'Masters', 'Bachelors', 'Some-college', 'Assoc-voc',\n",
       "       'Doctorate', 'Prof-school', 'Assoc-acdm', '7th-8th', '12th',\n",
       "       '10th', '11th', '9th', '5th-6th', '1st-4th'], dtype=object)"
      ]
     },
     "execution_count": 90,
     "metadata": {},
     "output_type": "execute_result"
    }
   ],
   "source": [
    "data[data[\"salary\"] == \">50K\"][\"education\"].unique()  # No"
   ]
  },
  {
   "cell_type": "markdown",
   "metadata": {},
   "source": [
    "**7. Выведите статистику возраста для каждой расы (признак *race*) и каждого пола. Используйте *groupby* и *describe*. Найдите таким образом максимальный возраст мужчин расы *Amer-Indian-Eskimo*.**"
   ]
  },
  {
   "cell_type": "code",
   "execution_count": 83,
   "metadata": {},
   "outputs": [
    {
     "name": "stdout",
     "output_type": "stream",
     "text": [
      "Amer-Indian-Eskimo\n",
      "Female\n",
      "              age         fnlwgt  education-num  capital-gain  capital-loss  \\\n",
      "count  119.000000     119.000000     119.000000    119.000000    119.000000   \n",
      "mean    37.117647  112950.731092       9.697479    544.605042     14.462185   \n",
      "std     13.114991   93207.974077       2.334540   2451.591587    157.763811   \n",
      "min     17.000000   12285.000000       2.000000      0.000000      0.000000   \n",
      "25%     27.000000   31387.000000       9.000000      0.000000      0.000000   \n",
      "50%     36.000000   87950.000000      10.000000      0.000000      0.000000   \n",
      "75%     46.000000  163027.500000      11.000000      0.000000      0.000000   \n",
      "max     80.000000  445168.000000      16.000000  15024.000000   1721.000000   \n",
      "\n",
      "       hours-per-week  \n",
      "count      119.000000  \n",
      "mean        36.579832  \n",
      "std         11.046509  \n",
      "min          4.000000  \n",
      "25%         35.000000  \n",
      "50%         40.000000  \n",
      "75%         40.000000  \n",
      "max         84.000000  \n",
      "Amer-Indian-Eskimo\n",
      "Male\n",
      "              age         fnlwgt  education-num  capital-gain  capital-loss  \\\n",
      "count  192.000000     192.000000     192.000000    192.000000    192.000000   \n",
      "mean    37.208333  125715.364583       9.072917    675.260417     46.395833   \n",
      "std     12.049563   85063.251595       2.268587   2929.745443    286.562584   \n",
      "min     17.000000   13769.000000       2.000000      0.000000      0.000000   \n",
      "25%     28.000000   48197.750000       9.000000      0.000000      0.000000   \n",
      "50%     35.000000  113091.000000       9.000000      0.000000      0.000000   \n",
      "75%     45.000000  182656.000000      10.000000      0.000000      0.000000   \n",
      "max     82.000000  356015.000000      16.000000  27828.000000   1980.000000   \n",
      "\n",
      "       hours-per-week  \n",
      "count      192.000000  \n",
      "mean        42.197917  \n",
      "std         11.596280  \n",
      "min          3.000000  \n",
      "25%         40.000000  \n",
      "50%         40.000000  \n",
      "75%         45.000000  \n",
      "max         84.000000  \n",
      "Asian-Pac-Islander\n",
      "Female\n",
      "              age         fnlwgt  education-num  capital-gain  capital-loss  \\\n",
      "count  346.000000     346.000000     346.000000    346.000000    346.000000   \n",
      "mean    35.089595  147452.075145      10.390173    778.436416     50.852601   \n",
      "std     12.300845   76401.627757       2.796647   7675.228631    296.529225   \n",
      "min     17.000000   19914.000000       1.000000      0.000000      0.000000   \n",
      "25%     25.000000   86879.250000       9.000000      0.000000      0.000000   \n",
      "50%     33.000000  131986.000000      10.000000      0.000000      0.000000   \n",
      "75%     43.750000  175705.750000      13.000000      0.000000      0.000000   \n",
      "max     75.000000  379046.000000      15.000000  99999.000000   2258.000000   \n",
      "\n",
      "       hours-per-week  \n",
      "count      346.000000  \n",
      "mean        37.439306  \n",
      "std         12.479459  \n",
      "min          1.000000  \n",
      "25%         35.000000  \n",
      "50%         40.000000  \n",
      "75%         40.000000  \n",
      "max         99.000000  \n",
      "Asian-Pac-Islander\n",
      "Male\n",
      "              age         fnlwgt  education-num  capital-gain  capital-loss  \\\n",
      "count  693.000000     693.000000     693.000000    693.000000    693.000000   \n",
      "mean    39.073593  166175.865801      11.245310   1827.813853    120.373737   \n",
      "std     12.883944   88552.952600       2.777463  10947.525528    472.917697   \n",
      "min     18.000000   14878.000000       1.000000      0.000000      0.000000   \n",
      "25%     29.000000   98350.000000       9.000000      0.000000      0.000000   \n",
      "50%     37.000000  147719.000000      11.000000      0.000000      0.000000   \n",
      "75%     46.000000  200117.000000      13.000000      0.000000      0.000000   \n",
      "max     90.000000  506329.000000      16.000000  99999.000000   2457.000000   \n",
      "\n",
      "       hours-per-week  \n",
      "count      693.000000  \n",
      "mean        41.468975  \n",
      "std         12.387563  \n",
      "min          1.000000  \n",
      "25%         40.000000  \n",
      "50%         40.000000  \n",
      "75%         45.000000  \n",
      "max         99.000000  \n",
      "Black\n",
      "Female\n",
      "               age         fnlwgt  education-num  capital-gain  capital-loss  \\\n",
      "count  1555.000000    1555.000000    1555.000000   1555.000000   1555.000000   \n",
      "mean     37.854019  212971.387781       9.549839    516.593569     45.450804   \n",
      "std      12.637197  109971.263983       2.207815   5312.749129    299.099591   \n",
      "min      17.000000   19752.000000       1.000000      0.000000      0.000000   \n",
      "25%      28.000000  142666.500000       9.000000      0.000000      0.000000   \n",
      "50%      37.000000  193553.000000       9.000000      0.000000      0.000000   \n",
      "75%      46.000000  253759.000000      10.000000      0.000000      0.000000   \n",
      "max      90.000000  930948.000000      16.000000  99999.000000   4356.000000   \n",
      "\n",
      "       hours-per-week  \n",
      "count     1555.000000  \n",
      "mean        36.834084  \n",
      "std          9.419960  \n",
      "min          2.000000  \n",
      "25%         35.000000  \n",
      "50%         40.000000  \n",
      "75%         40.000000  \n",
      "max         99.000000  \n",
      "Black\n",
      "Male\n",
      "               age        fnlwgt  education-num  capital-gain  capital-loss  \\\n",
      "count  1569.000000  1.569000e+03    1569.000000   1569.000000   1569.000000   \n",
      "mean     37.682600  2.429206e+05       9.423199    702.454430     75.186106   \n",
      "std      12.882612  1.341460e+05       2.382841   4962.113183    370.976546   \n",
      "min      17.000000  2.185600e+04       1.000000      0.000000      0.000000   \n",
      "25%      27.000000  1.564100e+05       9.000000      0.000000      0.000000   \n",
      "50%      36.000000  2.211960e+05       9.000000      0.000000      0.000000   \n",
      "75%      46.000000  2.986010e+05      10.000000      0.000000      0.000000   \n",
      "max      90.000000  1.268339e+06      16.000000  99999.000000   2824.000000   \n",
      "\n",
      "       hours-per-week  \n",
      "count     1569.000000  \n",
      "mean        39.997451  \n",
      "std         10.909413  \n",
      "min          1.000000  \n",
      "25%         40.000000  \n",
      "50%         40.000000  \n",
      "75%         40.000000  \n",
      "max         99.000000  \n",
      "Other\n",
      "Female\n",
      "              age         fnlwgt  education-num  capital-gain  capital-loss  \\\n",
      "count  109.000000     109.000000     109.000000    109.000000    109.000000   \n",
      "mean    31.678899  172519.642202       8.899083    254.669725     36.284404   \n",
      "std     11.631599   77766.666801       3.027482   1317.326460    231.796929   \n",
      "min     17.000000   24562.000000       2.000000      0.000000      0.000000   \n",
      "25%     23.000000  119890.000000       7.000000      0.000000      0.000000   \n",
      "50%     29.000000  171199.000000       9.000000      0.000000      0.000000   \n",
      "75%     39.000000  219441.000000      10.000000      0.000000      0.000000   \n",
      "max     74.000000  388741.000000      14.000000   7688.000000   1740.000000   \n",
      "\n",
      "       hours-per-week  \n",
      "count      109.000000  \n",
      "mean        35.926606  \n",
      "std         10.300761  \n",
      "min          6.000000  \n",
      "25%         30.000000  \n",
      "50%         40.000000  \n",
      "75%         40.000000  \n",
      "max         65.000000  \n",
      "Other\n",
      "Male\n",
      "              age         fnlwgt  education-num  capital-gain  capital-loss  \\\n",
      "count  162.000000     162.000000     162.000000    162.000000    162.000000   \n",
      "mean    34.654321  213679.104938       8.802469   1392.185185     77.746914   \n",
      "std     11.355531   92187.362738       3.361897  11093.711595    370.986720   \n",
      "min     17.000000   25610.000000       1.000000      0.000000      0.000000   \n",
      "25%     26.000000  150726.750000       8.000000      0.000000      0.000000   \n",
      "50%     32.000000  208516.500000       9.000000      0.000000      0.000000   \n",
      "75%     42.000000  253334.750000      10.000000      0.000000      0.000000   \n",
      "max     77.000000  481175.000000      16.000000  99999.000000   2179.000000   \n",
      "\n",
      "       hours-per-week  \n",
      "count      162.000000  \n",
      "mean        41.851852  \n",
      "std         11.084779  \n",
      "min          5.000000  \n",
      "25%         40.000000  \n",
      "50%         40.000000  \n",
      "75%         40.000000  \n",
      "max         98.000000  \n",
      "White\n",
      "Female\n",
      "               age        fnlwgt  education-num  capital-gain  capital-loss  \\\n",
      "count  8642.000000  8.642000e+03    8642.000000   8642.000000   8642.000000   \n",
      "mean     36.811618  1.835500e+05      10.127980    573.610391     65.390535   \n",
      "std      14.329093  1.017103e+05       2.368115   4763.131649    352.330817   \n",
      "min      17.000000  1.939500e+04       1.000000      0.000000      0.000000   \n",
      "25%      25.000000  1.159148e+05       9.000000      0.000000      0.000000   \n",
      "50%      35.000000  1.758105e+05      10.000000      0.000000      0.000000   \n",
      "75%      46.000000  2.248365e+05      12.000000      0.000000      0.000000   \n",
      "max      90.000000  1.484705e+06      16.000000  99999.000000   4356.000000   \n",
      "\n",
      "       hours-per-week  \n",
      "count     8642.000000  \n",
      "mean        36.296691  \n",
      "std         12.190951  \n",
      "min          1.000000  \n",
      "25%         30.000000  \n",
      "50%         40.000000  \n",
      "75%         40.000000  \n",
      "max         99.000000  \n",
      "White\n",
      "Male\n",
      "                age        fnlwgt  education-num  capital-gain  capital-loss  \\\n",
      "count  19174.000000  1.917400e+04   19174.000000  19174.000000  19174.000000   \n",
      "mean      39.652498  1.889874e+05      10.138521   1368.674455    102.261343   \n",
      "std       13.436029  1.037146e+05       2.656464   8442.830669    434.156936   \n",
      "min       17.000000  1.882700e+04       1.000000      0.000000      0.000000   \n",
      "25%       29.000000  1.173810e+05       9.000000      0.000000      0.000000   \n",
      "50%       38.000000  1.786625e+05      10.000000      0.000000      0.000000   \n",
      "75%       49.000000  2.368588e+05      13.000000      0.000000      0.000000   \n",
      "max       90.000000  1.455435e+06      16.000000  99999.000000   3770.000000   \n",
      "\n",
      "       hours-per-week  \n",
      "count    19174.000000  \n",
      "mean        42.668822  \n",
      "std         12.194633  \n",
      "min          1.000000  \n",
      "25%         40.000000  \n",
      "50%         40.000000  \n",
      "75%         50.000000  \n",
      "max         99.000000  \n"
     ]
    }
   ],
   "source": [
    "for race, sub_df in data.groupby(['race', 'sex']):\n",
    "    print(race[0])\n",
    "    print(race[1])\n",
    "    print(sub_df.describe())"
   ]
  },
  {
   "cell_type": "code",
   "execution_count": 68,
   "metadata": {},
   "outputs": [
    {
     "data": {
      "text/plain": [
       "count    192.000000\n",
       "mean      37.208333\n",
       "std       12.049563\n",
       "min       17.000000\n",
       "25%       28.000000\n",
       "50%       35.000000\n",
       "75%       45.000000\n",
       "max       82.000000\n",
       "Name: age, dtype: float64"
      ]
     },
     "execution_count": 68,
     "metadata": {},
     "output_type": "execute_result"
    }
   ],
   "source": [
    "d1 = data[data['race']=='Amer-Indian-Eskimo']\n",
    "d1[d1['sex']=='Male']['age'].describe()"
   ]
  },
  {
   "cell_type": "markdown",
   "metadata": {},
   "source": [
    "Решение"
   ]
  },
  {
   "cell_type": "code",
   "execution_count": 91,
   "metadata": {
    "scrolled": true
   },
   "outputs": [
    {
     "name": "stdout",
     "output_type": "stream",
     "text": [
      "Race: Amer-Indian-Eskimo, sex: Female\n",
      "count    119.000000\n",
      "mean      37.117647\n",
      "std       13.114991\n",
      "min       17.000000\n",
      "25%       27.000000\n",
      "50%       36.000000\n",
      "75%       46.000000\n",
      "max       80.000000\n",
      "Name: age, dtype: float64\n",
      "Race: Amer-Indian-Eskimo, sex: Male\n",
      "count    192.000000\n",
      "mean      37.208333\n",
      "std       12.049563\n",
      "min       17.000000\n",
      "25%       28.000000\n",
      "50%       35.000000\n",
      "75%       45.000000\n",
      "max       82.000000\n",
      "Name: age, dtype: float64\n",
      "Race: Asian-Pac-Islander, sex: Female\n",
      "count    346.000000\n",
      "mean      35.089595\n",
      "std       12.300845\n",
      "min       17.000000\n",
      "25%       25.000000\n",
      "50%       33.000000\n",
      "75%       43.750000\n",
      "max       75.000000\n",
      "Name: age, dtype: float64\n",
      "Race: Asian-Pac-Islander, sex: Male\n",
      "count    693.000000\n",
      "mean      39.073593\n",
      "std       12.883944\n",
      "min       18.000000\n",
      "25%       29.000000\n",
      "50%       37.000000\n",
      "75%       46.000000\n",
      "max       90.000000\n",
      "Name: age, dtype: float64\n",
      "Race: Black, sex: Female\n",
      "count    1555.000000\n",
      "mean       37.854019\n",
      "std        12.637197\n",
      "min        17.000000\n",
      "25%        28.000000\n",
      "50%        37.000000\n",
      "75%        46.000000\n",
      "max        90.000000\n",
      "Name: age, dtype: float64\n",
      "Race: Black, sex: Male\n",
      "count    1569.000000\n",
      "mean       37.682600\n",
      "std        12.882612\n",
      "min        17.000000\n",
      "25%        27.000000\n",
      "50%        36.000000\n",
      "75%        46.000000\n",
      "max        90.000000\n",
      "Name: age, dtype: float64\n",
      "Race: Other, sex: Female\n",
      "count    109.000000\n",
      "mean      31.678899\n",
      "std       11.631599\n",
      "min       17.000000\n",
      "25%       23.000000\n",
      "50%       29.000000\n",
      "75%       39.000000\n",
      "max       74.000000\n",
      "Name: age, dtype: float64\n",
      "Race: Other, sex: Male\n",
      "count    162.000000\n",
      "mean      34.654321\n",
      "std       11.355531\n",
      "min       17.000000\n",
      "25%       26.000000\n",
      "50%       32.000000\n",
      "75%       42.000000\n",
      "max       77.000000\n",
      "Name: age, dtype: float64\n",
      "Race: White, sex: Female\n",
      "count    8642.000000\n",
      "mean       36.811618\n",
      "std        14.329093\n",
      "min        17.000000\n",
      "25%        25.000000\n",
      "50%        35.000000\n",
      "75%        46.000000\n",
      "max        90.000000\n",
      "Name: age, dtype: float64\n",
      "Race: White, sex: Male\n",
      "count    19174.000000\n",
      "mean        39.652498\n",
      "std         13.436029\n",
      "min         17.000000\n",
      "25%         29.000000\n",
      "50%         38.000000\n",
      "75%         49.000000\n",
      "max         90.000000\n",
      "Name: age, dtype: float64\n"
     ]
    }
   ],
   "source": [
    "for (race, sex), sub_df in data.groupby([\"race\", \"sex\"]):\n",
    "    print(\"Race: {0}, sex: {1}\".format(race, sex))\n",
    "    print(sub_df[\"age\"].describe())"
   ]
  },
  {
   "cell_type": "markdown",
   "metadata": {},
   "source": [
    "**8. Среди кого больше доля зарабатывающих много (>50K): среди женатых или холостых мужчин (признак *marital-status*)? Женатыми считаем тех, у кого *marital-status* начинается с *Married* (Married-civ-spouse, Married-spouse-absent или Married-AF-spouse), остальных считаем холостыми.**"
   ]
  },
  {
   "cell_type": "code",
   "execution_count": 99,
   "metadata": {},
   "outputs": [
    {
     "data": {
      "text/html": [
       "<div>\n",
       "<style scoped>\n",
       "    .dataframe tbody tr th:only-of-type {\n",
       "        vertical-align: middle;\n",
       "    }\n",
       "\n",
       "    .dataframe tbody tr th {\n",
       "        vertical-align: top;\n",
       "    }\n",
       "\n",
       "    .dataframe thead th {\n",
       "        text-align: right;\n",
       "    }\n",
       "</style>\n",
       "<table border=\"1\" class=\"dataframe\">\n",
       "  <thead>\n",
       "    <tr style=\"text-align: right;\">\n",
       "      <th>marital-status</th>\n",
       "      <th>Divorced</th>\n",
       "      <th>Married-AF-spouse</th>\n",
       "      <th>Married-civ-spouse</th>\n",
       "      <th>Married-spouse-absent</th>\n",
       "      <th>Never-married</th>\n",
       "      <th>Separated</th>\n",
       "      <th>Widowed</th>\n",
       "    </tr>\n",
       "    <tr>\n",
       "      <th>salary</th>\n",
       "      <th></th>\n",
       "      <th></th>\n",
       "      <th></th>\n",
       "      <th></th>\n",
       "      <th></th>\n",
       "      <th></th>\n",
       "      <th></th>\n",
       "    </tr>\n",
       "  </thead>\n",
       "  <tbody>\n",
       "    <tr>\n",
       "      <th>&lt;=50K</th>\n",
       "      <td>3980</td>\n",
       "      <td>13</td>\n",
       "      <td>8284</td>\n",
       "      <td>384</td>\n",
       "      <td>10192</td>\n",
       "      <td>959</td>\n",
       "      <td>908</td>\n",
       "    </tr>\n",
       "    <tr>\n",
       "      <th>&gt;50K</th>\n",
       "      <td>463</td>\n",
       "      <td>10</td>\n",
       "      <td>6692</td>\n",
       "      <td>34</td>\n",
       "      <td>491</td>\n",
       "      <td>66</td>\n",
       "      <td>85</td>\n",
       "    </tr>\n",
       "  </tbody>\n",
       "</table>\n",
       "</div>"
      ],
      "text/plain": [
       "marital-status  Divorced  Married-AF-spouse  Married-civ-spouse  \\\n",
       "salary                                                            \n",
       "<=50K               3980                 13                8284   \n",
       ">50K                 463                 10                6692   \n",
       "\n",
       "marital-status  Married-spouse-absent  Never-married  Separated  Widowed  \n",
       "salary                                                                    \n",
       "<=50K                             384          10192        959      908  \n",
       ">50K                               34            491         66       85  "
      ]
     },
     "execution_count": 99,
     "metadata": {},
     "output_type": "execute_result"
    }
   ],
   "source": [
    "d8 = pd.crosstab(data['salary'], data['marital-status'])\n",
    "d8"
   ]
  },
  {
   "cell_type": "code",
   "execution_count": 103,
   "metadata": {},
   "outputs": [
    {
     "data": {
      "text/plain": [
       "0.859074097691621"
      ]
     },
     "execution_count": 103,
     "metadata": {},
     "output_type": "execute_result"
    }
   ],
   "source": [
    "import re\n",
    "\n",
    "oll = 0\n",
    "m = 0\n",
    "for column in d8.columns:\n",
    "    oll += d8[column][1]\n",
    "    if re.match(r'Married', column):\n",
    "        m += d8[column][1]\n",
    "m/oll # доля женатых мужчин получающих >50K"
   ]
  },
  {
   "cell_type": "markdown",
   "metadata": {},
   "source": [
    "Решение"
   ]
  },
  {
   "cell_type": "code",
   "execution_count": 108,
   "metadata": {},
   "outputs": [
    {
     "data": {
      "text/plain": [
       "<=50K    0.559486\n",
       ">50K     0.440514\n",
       "Name: salary, dtype: float64"
      ]
     },
     "execution_count": 108,
     "metadata": {},
     "output_type": "execute_result"
    }
   ],
   "source": [
    "# married men\n",
    "(data[(data[\"sex\"] == \"Male\")\n",
    "     & (data[\"marital-status\"].str\n",
    "        .startswith(\"Married\"))][\"salary\"]\n",
    " .value_counts(normalize=True))"
   ]
  },
  {
   "cell_type": "code",
   "execution_count": 107,
   "metadata": {},
   "outputs": [
    {
     "data": {
      "text/plain": [
       "<=50K    0.915505\n",
       ">50K     0.084495\n",
       "Name: salary, dtype: float64"
      ]
     },
     "execution_count": 107,
     "metadata": {},
     "output_type": "execute_result"
    }
   ],
   "source": [
    "# single men\n",
    "(data[(data[\"sex\"] == \"Male\")\n",
    "    & ~(data[\"marital-status\"].str\n",
    "        .startswith(\"Married\"))][\"salary\"]\n",
    " .value_counts(normalize=True))"
   ]
  },
  {
   "cell_type": "markdown",
   "metadata": {},
   "source": [
    "**9. Какое максимальное число часов человек работает в неделю (признак *hours-per-week*)? Сколько людей работают такое количество часов и каков среди них процент зарабатывающих много?**"
   ]
  },
  {
   "cell_type": "code",
   "execution_count": 74,
   "metadata": {},
   "outputs": [
    {
     "data": {
      "text/plain": [
       "99"
      ]
     },
     "execution_count": 74,
     "metadata": {},
     "output_type": "execute_result"
    }
   ],
   "source": [
    "data['hours-per-week'].max()"
   ]
  },
  {
   "cell_type": "code",
   "execution_count": 76,
   "metadata": {},
   "outputs": [
    {
     "data": {
      "text/plain": [
       "85"
      ]
     },
     "execution_count": 76,
     "metadata": {},
     "output_type": "execute_result"
    }
   ],
   "source": [
    "len(data[data['hours-per-week'] == data['hours-per-week'].max()])"
   ]
  },
  {
   "cell_type": "code",
   "execution_count": 78,
   "metadata": {},
   "outputs": [
    {
     "data": {
      "text/plain": [
       "0.29411764705882354"
      ]
     },
     "execution_count": 78,
     "metadata": {},
     "output_type": "execute_result"
    }
   ],
   "source": [
    "d9 = data[data['hours-per-week'] == data['hours-per-week'].max()]\n",
    "len(d9[d9['salary']=='>50K'])/len(d9['salary'])"
   ]
  },
  {
   "cell_type": "markdown",
   "metadata": {},
   "source": [
    "Решение"
   ]
  },
  {
   "cell_type": "code",
   "execution_count": 109,
   "metadata": {},
   "outputs": [
    {
     "name": "stdout",
     "output_type": "stream",
     "text": [
      "Max time - 99 hours./week.\n",
      "Total number of such hard workers 85\n",
      "Percentage of rich among them 29%\n"
     ]
    }
   ],
   "source": [
    "max_load = data[\"hours-per-week\"].max()\n",
    "print(\"Max time - {0} hours./week.\".format(max_load))\n",
    "\n",
    "num_workaholics = data[data[\"hours-per-week\"] == max_load].shape[0]\n",
    "print(\"Total number of such hard workers {0}\".format(num_workaholics))\n",
    "\n",
    "rich_share = (\n",
    "    float(\n",
    "        data[(data[\"hours-per-week\"] == max_load) & (data[\"salary\"] == \">50K\")].shape[0]\n",
    "    )\n",
    "    / num_workaholics\n",
    ")\n",
    "print(\"Percentage of rich among them {0}%\".format(int(100 * rich_share)))"
   ]
  },
  {
   "cell_type": "markdown",
   "metadata": {},
   "source": [
    "**10. Посчитайте среднее время работы (*hours-per-week*) зарабатывающих мало и много (*salary*) для каждой страны (*native-country*).**"
   ]
  },
  {
   "cell_type": "code",
   "execution_count": 84,
   "metadata": {
    "scrolled": true
   },
   "outputs": [
    {
     "name": "stdout",
     "output_type": "stream",
     "text": [
      "?\n",
      "<=50K\n",
      "40.16475972540046\n",
      "?\n",
      ">50K\n",
      "45.54794520547945\n",
      "Cambodia\n",
      "<=50K\n",
      "41.416666666666664\n",
      "Cambodia\n",
      ">50K\n",
      "40.0\n",
      "Canada\n",
      "<=50K\n",
      "37.91463414634146\n",
      "Canada\n",
      ">50K\n",
      "45.64102564102564\n",
      "China\n",
      "<=50K\n",
      "37.38181818181818\n",
      "China\n",
      ">50K\n",
      "38.9\n",
      "Columbia\n",
      "<=50K\n",
      "38.68421052631579\n",
      "Columbia\n",
      ">50K\n",
      "50.0\n",
      "Cuba\n",
      "<=50K\n",
      "37.98571428571429\n",
      "Cuba\n",
      ">50K\n",
      "42.44\n",
      "Dominican-Republic\n",
      "<=50K\n",
      "42.338235294117645\n",
      "Dominican-Republic\n",
      ">50K\n",
      "47.0\n",
      "Ecuador\n",
      "<=50K\n",
      "38.041666666666664\n",
      "Ecuador\n",
      ">50K\n",
      "48.75\n",
      "El-Salvador\n",
      "<=50K\n",
      "36.03092783505155\n",
      "El-Salvador\n",
      ">50K\n",
      "45.0\n",
      "England\n",
      "<=50K\n",
      "40.483333333333334\n",
      "England\n",
      ">50K\n",
      "44.53333333333333\n",
      "France\n",
      "<=50K\n",
      "41.05882352941177\n",
      "France\n",
      ">50K\n",
      "50.75\n",
      "Germany\n",
      "<=50K\n",
      "39.13978494623656\n",
      "Germany\n",
      ">50K\n",
      "44.97727272727273\n",
      "Greece\n",
      "<=50K\n",
      "41.80952380952381\n",
      "Greece\n",
      ">50K\n",
      "50.625\n",
      "Guatemala\n",
      "<=50K\n",
      "39.36065573770492\n",
      "Guatemala\n",
      ">50K\n",
      "36.666666666666664\n",
      "Haiti\n",
      "<=50K\n",
      "36.325\n",
      "Haiti\n",
      ">50K\n",
      "42.75\n",
      "Holand-Netherlands\n",
      "<=50K\n",
      "40.0\n",
      "Honduras\n",
      "<=50K\n",
      "34.333333333333336\n",
      "Honduras\n",
      ">50K\n",
      "60.0\n",
      "Hong\n",
      "<=50K\n",
      "39.142857142857146\n",
      "Hong\n",
      ">50K\n",
      "45.0\n",
      "Hungary\n",
      "<=50K\n",
      "31.3\n",
      "Hungary\n",
      ">50K\n",
      "50.0\n",
      "India\n",
      "<=50K\n",
      "38.233333333333334\n",
      "India\n",
      ">50K\n",
      "46.475\n",
      "Iran\n",
      "<=50K\n",
      "41.44\n",
      "Iran\n",
      ">50K\n",
      "47.5\n",
      "Ireland\n",
      "<=50K\n",
      "40.94736842105263\n",
      "Ireland\n",
      ">50K\n",
      "48.0\n",
      "Italy\n",
      "<=50K\n",
      "39.625\n",
      "Italy\n",
      ">50K\n",
      "45.4\n",
      "Jamaica\n",
      "<=50K\n",
      "38.23943661971831\n",
      "Jamaica\n",
      ">50K\n",
      "41.1\n",
      "Japan\n",
      "<=50K\n",
      "41.0\n",
      "Japan\n",
      ">50K\n",
      "47.958333333333336\n",
      "Laos\n",
      "<=50K\n",
      "40.375\n",
      "Laos\n",
      ">50K\n",
      "40.0\n",
      "Mexico\n",
      "<=50K\n",
      "40.00327868852459\n",
      "Mexico\n",
      ">50K\n",
      "46.57575757575758\n",
      "Nicaragua\n",
      "<=50K\n",
      "36.09375\n",
      "Nicaragua\n",
      ">50K\n",
      "37.5\n",
      "Outlying-US(Guam-USVI-etc)\n",
      "<=50K\n",
      "41.857142857142854\n",
      "Peru\n",
      "<=50K\n",
      "35.06896551724138\n",
      "Peru\n",
      ">50K\n",
      "40.0\n",
      "Philippines\n",
      "<=50K\n",
      "38.065693430656935\n",
      "Philippines\n",
      ">50K\n",
      "43.032786885245905\n",
      "Poland\n",
      "<=50K\n",
      "38.166666666666664\n",
      "Poland\n",
      ">50K\n",
      "39.0\n",
      "Portugal\n",
      "<=50K\n",
      "41.93939393939394\n",
      "Portugal\n",
      ">50K\n",
      "41.5\n",
      "Puerto-Rico\n",
      "<=50K\n",
      "38.470588235294116\n",
      "Puerto-Rico\n",
      ">50K\n",
      "39.416666666666664\n",
      "Scotland\n",
      "<=50K\n",
      "39.44444444444444\n",
      "Scotland\n",
      ">50K\n",
      "46.666666666666664\n",
      "South\n",
      "<=50K\n",
      "40.15625\n",
      "South\n",
      ">50K\n",
      "51.4375\n",
      "Taiwan\n",
      "<=50K\n",
      "33.774193548387096\n",
      "Taiwan\n",
      ">50K\n",
      "46.8\n",
      "Thailand\n",
      "<=50K\n",
      "42.86666666666667\n",
      "Thailand\n",
      ">50K\n",
      "58.333333333333336\n",
      "Trinadad&Tobago\n",
      "<=50K\n",
      "37.05882352941177\n",
      "Trinadad&Tobago\n",
      ">50K\n",
      "40.0\n",
      "United-States\n",
      "<=50K\n",
      "38.79912723305605\n",
      "United-States\n",
      ">50K\n",
      "45.50536884674383\n",
      "Vietnam\n",
      "<=50K\n",
      "37.193548387096776\n",
      "Vietnam\n",
      ">50K\n",
      "39.2\n",
      "Yugoslavia\n",
      "<=50K\n",
      "41.6\n",
      "Yugoslavia\n",
      ">50K\n",
      "49.5\n"
     ]
    }
   ],
   "source": [
    "for arg, sub_df in data.groupby(['native-country','salary']):\n",
    "    print(arg[0])\n",
    "    print(arg[1])\n",
    "    print(sub_df['hours-per-week'].mean())"
   ]
  },
  {
   "cell_type": "markdown",
   "metadata": {},
   "source": [
    "Решение"
   ]
  },
  {
   "cell_type": "code",
   "execution_count": 110,
   "metadata": {},
   "outputs": [
    {
     "name": "stdout",
     "output_type": "stream",
     "text": [
      "? <=50K 40.16\n",
      "? >50K 45.55\n",
      "Cambodia <=50K 41.42\n",
      "Cambodia >50K 40.0\n",
      "Canada <=50K 37.91\n",
      "Canada >50K 45.64\n",
      "China <=50K 37.38\n",
      "China >50K 38.9\n",
      "Columbia <=50K 38.68\n",
      "Columbia >50K 50.0\n",
      "Cuba <=50K 37.99\n",
      "Cuba >50K 42.44\n",
      "Dominican-Republic <=50K 42.34\n",
      "Dominican-Republic >50K 47.0\n",
      "Ecuador <=50K 38.04\n",
      "Ecuador >50K 48.75\n",
      "El-Salvador <=50K 36.03\n",
      "El-Salvador >50K 45.0\n",
      "England <=50K 40.48\n",
      "England >50K 44.53\n",
      "France <=50K 41.06\n",
      "France >50K 50.75\n",
      "Germany <=50K 39.14\n",
      "Germany >50K 44.98\n",
      "Greece <=50K 41.81\n",
      "Greece >50K 50.62\n",
      "Guatemala <=50K 39.36\n",
      "Guatemala >50K 36.67\n",
      "Haiti <=50K 36.33\n",
      "Haiti >50K 42.75\n",
      "Holand-Netherlands <=50K 40.0\n",
      "Honduras <=50K 34.33\n",
      "Honduras >50K 60.0\n",
      "Hong <=50K 39.14\n",
      "Hong >50K 45.0\n",
      "Hungary <=50K 31.3\n",
      "Hungary >50K 50.0\n",
      "India <=50K 38.23\n",
      "India >50K 46.48\n",
      "Iran <=50K 41.44\n",
      "Iran >50K 47.5\n",
      "Ireland <=50K 40.95\n",
      "Ireland >50K 48.0\n",
      "Italy <=50K 39.62\n",
      "Italy >50K 45.4\n",
      "Jamaica <=50K 38.24\n",
      "Jamaica >50K 41.1\n",
      "Japan <=50K 41.0\n",
      "Japan >50K 47.96\n",
      "Laos <=50K 40.38\n",
      "Laos >50K 40.0\n",
      "Mexico <=50K 40.0\n",
      "Mexico >50K 46.58\n",
      "Nicaragua <=50K 36.09\n",
      "Nicaragua >50K 37.5\n",
      "Outlying-US(Guam-USVI-etc) <=50K 41.86\n",
      "Peru <=50K 35.07\n",
      "Peru >50K 40.0\n",
      "Philippines <=50K 38.07\n",
      "Philippines >50K 43.03\n",
      "Poland <=50K 38.17\n",
      "Poland >50K 39.0\n",
      "Portugal <=50K 41.94\n",
      "Portugal >50K 41.5\n",
      "Puerto-Rico <=50K 38.47\n",
      "Puerto-Rico >50K 39.42\n",
      "Scotland <=50K 39.44\n",
      "Scotland >50K 46.67\n",
      "South <=50K 40.16\n",
      "South >50K 51.44\n",
      "Taiwan <=50K 33.77\n",
      "Taiwan >50K 46.8\n",
      "Thailand <=50K 42.87\n",
      "Thailand >50K 58.33\n",
      "Trinadad&Tobago <=50K 37.06\n",
      "Trinadad&Tobago >50K 40.0\n",
      "United-States <=50K 38.8\n",
      "United-States >50K 45.51\n",
      "Vietnam <=50K 37.19\n",
      "Vietnam >50K 39.2\n",
      "Yugoslavia <=50K 41.6\n",
      "Yugoslavia >50K 49.5\n"
     ]
    }
   ],
   "source": [
    "for (country, salary), sub_df in data.groupby([\"native-country\", \"salary\"]):\n",
    "    print(country, salary, round(sub_df[\"hours-per-week\"].mean(), 2))"
   ]
  },
  {
   "cell_type": "code",
   "execution_count": null,
   "metadata": {},
   "outputs": [],
   "source": []
  }
 ],
 "metadata": {
  "anaconda-cloud": {},
  "kernelspec": {
   "display_name": "Python 3",
   "language": "python",
   "name": "python3"
  },
  "language_info": {
   "codemirror_mode": {
    "name": "ipython",
    "version": 3
   },
   "file_extension": ".py",
   "mimetype": "text/x-python",
   "name": "python",
   "nbconvert_exporter": "python",
   "pygments_lexer": "ipython3",
   "version": "3.8.8"
  }
 },
 "nbformat": 4,
 "nbformat_minor": 1
}
