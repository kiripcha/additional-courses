{
 "cells": [
  {
   "cell_type": "markdown",
   "id": "62c6cb7a",
   "metadata": {},
   "source": []
  },
  {
   "cell_type": "markdown",
   "id": "a1563e64",
   "metadata": {},
   "source": [
    "# Анализ данных в задаче кредитного скоринга"
   ]
  },
  {
   "cell_type": "markdown",
   "id": "80cc4445",
   "metadata": {},
   "source": [
    "Для выполнения этого задания вам понадобятся данные о кредитных историях клиентов одного из банков. Поля в предоставляемых данных имеют следующий смысл:\n",
    "\n",
    "- LIMIT_BAL: размер кредитного лимита (в том числе и на семью клиента)\n",
    "- SEX: пол клиента (1 = мужской, 2 = женский )\n",
    "- EDUCATION: образование (0 = доктор, 1 = магистр; 2 = бакалавр; 3 = выпускник школы; 4 = начальное образование; 5 = прочее; 6 = нет данных ).\n",
    "- MARRIAGE: (0 = отказываюсь отвечать; 1 = замужем/женат; 2 = холост; 3 = нет данных).\n",
    "- AGE: возраст в годах\n",
    "- PAY_0 - PAY_6 : История прошлых платежей по кредиту. PAY_6 - платеж в апреле, ..., PAY_0 - платеж в сентябре. Платеж = (0 = исправный платеж, 1 = задержка в один месяц, 2 = задержка в 2 месяца ...)\n",
    "- BILL_AMT1 - BILL_AMT6: задолженность, BILL_AMT6 - на апрель, ..., BILL_AMT1 - на сентябрь\n",
    "- PAY_AMT1 - PAY_AMT6: сумма уплаченная в PAY_AMT6 - апреле, ..., PAY_AMT1 - сентябре\n",
    "- default - индикатор невозврата денежных средств"
   ]
  },
  {
   "cell_type": "code",
   "execution_count": 66,
   "id": "68a223ac",
   "metadata": {},
   "outputs": [],
   "source": [
    "from __future__ import division\n",
    "\n",
    "import numpy as np\n",
    "import pandas as pd\n",
    "\n",
    "from scipy import stats\n",
    "from statsmodels.stats import weightstats as wsm\n",
    "from statsmodels.stats.proportion import proportion_confint\n",
    "\n",
    "%matplotlib inline\n",
    "import matplotlib.pyplot as plt\n",
    "import seaborn as sns\n",
    "\n",
    "from IPython.core.interactiveshell import InteractiveShell\n",
    "InteractiveShell.ast_node_interactivity = \"all\""
   ]
  },
  {
   "cell_type": "code",
   "execution_count": 3,
   "id": "cdfef51e",
   "metadata": {},
   "outputs": [
    {
     "name": "stdout",
     "output_type": "stream",
     "text": [
      "<class 'pandas.core.frame.DataFrame'>\n",
      "RangeIndex: 30000 entries, 0 to 29999\n",
      "Data columns (total 25 columns):\n",
      " #   Column     Non-Null Count  Dtype\n",
      "---  ------     --------------  -----\n",
      " 0   ID         30000 non-null  int64\n",
      " 1   LIMIT_BAL  30000 non-null  int64\n",
      " 2   SEX        30000 non-null  int64\n",
      " 3   EDUCATION  30000 non-null  int64\n",
      " 4   MARRIAGE   30000 non-null  int64\n",
      " 5   AGE        30000 non-null  int64\n",
      " 6   PAY_0      30000 non-null  int64\n",
      " 7   PAY_2      30000 non-null  int64\n",
      " 8   PAY_3      30000 non-null  int64\n",
      " 9   PAY_4      30000 non-null  int64\n",
      " 10  PAY_5      30000 non-null  int64\n",
      " 11  PAY_6      30000 non-null  int64\n",
      " 12  BILL_AMT1  30000 non-null  int64\n",
      " 13  BILL_AMT2  30000 non-null  int64\n",
      " 14  BILL_AMT3  30000 non-null  int64\n",
      " 15  BILL_AMT4  30000 non-null  int64\n",
      " 16  BILL_AMT5  30000 non-null  int64\n",
      " 17  BILL_AMT6  30000 non-null  int64\n",
      " 18  PAY_AMT1   30000 non-null  int64\n",
      " 19  PAY_AMT2   30000 non-null  int64\n",
      " 20  PAY_AMT3   30000 non-null  int64\n",
      " 21  PAY_AMT4   30000 non-null  int64\n",
      " 22  PAY_AMT5   30000 non-null  int64\n",
      " 23  PAY_AMT6   30000 non-null  int64\n",
      " 24  default    30000 non-null  int64\n",
      "dtypes: int64(25)\n",
      "memory usage: 5.7 MB\n"
     ]
    }
   ],
   "source": [
    "credit_story = pd.read_csv('credit_card_default_analysis.csv')\n",
    "credit_story.info()"
   ]
  },
  {
   "cell_type": "code",
   "execution_count": 4,
   "id": "76409076",
   "metadata": {},
   "outputs": [
    {
     "data": {
      "text/html": [
       "<div>\n",
       "<style scoped>\n",
       "    .dataframe tbody tr th:only-of-type {\n",
       "        vertical-align: middle;\n",
       "    }\n",
       "\n",
       "    .dataframe tbody tr th {\n",
       "        vertical-align: top;\n",
       "    }\n",
       "\n",
       "    .dataframe thead th {\n",
       "        text-align: right;\n",
       "    }\n",
       "</style>\n",
       "<table border=\"1\" class=\"dataframe\">\n",
       "  <thead>\n",
       "    <tr style=\"text-align: right;\">\n",
       "      <th></th>\n",
       "      <th>ID</th>\n",
       "      <th>LIMIT_BAL</th>\n",
       "      <th>SEX</th>\n",
       "      <th>EDUCATION</th>\n",
       "      <th>MARRIAGE</th>\n",
       "      <th>AGE</th>\n",
       "      <th>PAY_0</th>\n",
       "      <th>PAY_2</th>\n",
       "      <th>PAY_3</th>\n",
       "      <th>PAY_4</th>\n",
       "      <th>PAY_5</th>\n",
       "      <th>PAY_6</th>\n",
       "      <th>BILL_AMT1</th>\n",
       "      <th>BILL_AMT2</th>\n",
       "      <th>BILL_AMT3</th>\n",
       "      <th>BILL_AMT4</th>\n",
       "      <th>BILL_AMT5</th>\n",
       "      <th>BILL_AMT6</th>\n",
       "      <th>PAY_AMT1</th>\n",
       "      <th>PAY_AMT2</th>\n",
       "      <th>PAY_AMT3</th>\n",
       "      <th>PAY_AMT4</th>\n",
       "      <th>PAY_AMT5</th>\n",
       "      <th>PAY_AMT6</th>\n",
       "      <th>default</th>\n",
       "    </tr>\n",
       "  </thead>\n",
       "  <tbody>\n",
       "    <tr>\n",
       "      <th>0</th>\n",
       "      <td>1</td>\n",
       "      <td>20000</td>\n",
       "      <td>2</td>\n",
       "      <td>2</td>\n",
       "      <td>1</td>\n",
       "      <td>24</td>\n",
       "      <td>2</td>\n",
       "      <td>2</td>\n",
       "      <td>0</td>\n",
       "      <td>0</td>\n",
       "      <td>0</td>\n",
       "      <td>0</td>\n",
       "      <td>3913</td>\n",
       "      <td>3102</td>\n",
       "      <td>689</td>\n",
       "      <td>0</td>\n",
       "      <td>0</td>\n",
       "      <td>0</td>\n",
       "      <td>0</td>\n",
       "      <td>689</td>\n",
       "      <td>0</td>\n",
       "      <td>0</td>\n",
       "      <td>0</td>\n",
       "      <td>0</td>\n",
       "      <td>1</td>\n",
       "    </tr>\n",
       "    <tr>\n",
       "      <th>1</th>\n",
       "      <td>2</td>\n",
       "      <td>120000</td>\n",
       "      <td>2</td>\n",
       "      <td>2</td>\n",
       "      <td>2</td>\n",
       "      <td>26</td>\n",
       "      <td>0</td>\n",
       "      <td>2</td>\n",
       "      <td>0</td>\n",
       "      <td>0</td>\n",
       "      <td>0</td>\n",
       "      <td>2</td>\n",
       "      <td>2682</td>\n",
       "      <td>1725</td>\n",
       "      <td>2682</td>\n",
       "      <td>3272</td>\n",
       "      <td>3455</td>\n",
       "      <td>3261</td>\n",
       "      <td>0</td>\n",
       "      <td>1000</td>\n",
       "      <td>1000</td>\n",
       "      <td>1000</td>\n",
       "      <td>0</td>\n",
       "      <td>2000</td>\n",
       "      <td>1</td>\n",
       "    </tr>\n",
       "    <tr>\n",
       "      <th>2</th>\n",
       "      <td>3</td>\n",
       "      <td>90000</td>\n",
       "      <td>2</td>\n",
       "      <td>2</td>\n",
       "      <td>2</td>\n",
       "      <td>34</td>\n",
       "      <td>0</td>\n",
       "      <td>0</td>\n",
       "      <td>0</td>\n",
       "      <td>0</td>\n",
       "      <td>0</td>\n",
       "      <td>0</td>\n",
       "      <td>29239</td>\n",
       "      <td>14027</td>\n",
       "      <td>13559</td>\n",
       "      <td>14331</td>\n",
       "      <td>14948</td>\n",
       "      <td>15549</td>\n",
       "      <td>1518</td>\n",
       "      <td>1500</td>\n",
       "      <td>1000</td>\n",
       "      <td>1000</td>\n",
       "      <td>1000</td>\n",
       "      <td>5000</td>\n",
       "      <td>0</td>\n",
       "    </tr>\n",
       "    <tr>\n",
       "      <th>3</th>\n",
       "      <td>4</td>\n",
       "      <td>50000</td>\n",
       "      <td>2</td>\n",
       "      <td>2</td>\n",
       "      <td>1</td>\n",
       "      <td>37</td>\n",
       "      <td>0</td>\n",
       "      <td>0</td>\n",
       "      <td>0</td>\n",
       "      <td>0</td>\n",
       "      <td>0</td>\n",
       "      <td>0</td>\n",
       "      <td>46990</td>\n",
       "      <td>48233</td>\n",
       "      <td>49291</td>\n",
       "      <td>28314</td>\n",
       "      <td>28959</td>\n",
       "      <td>29547</td>\n",
       "      <td>2000</td>\n",
       "      <td>2019</td>\n",
       "      <td>1200</td>\n",
       "      <td>1100</td>\n",
       "      <td>1069</td>\n",
       "      <td>1000</td>\n",
       "      <td>0</td>\n",
       "    </tr>\n",
       "    <tr>\n",
       "      <th>4</th>\n",
       "      <td>5</td>\n",
       "      <td>50000</td>\n",
       "      <td>1</td>\n",
       "      <td>2</td>\n",
       "      <td>1</td>\n",
       "      <td>57</td>\n",
       "      <td>0</td>\n",
       "      <td>0</td>\n",
       "      <td>0</td>\n",
       "      <td>0</td>\n",
       "      <td>0</td>\n",
       "      <td>0</td>\n",
       "      <td>8617</td>\n",
       "      <td>5670</td>\n",
       "      <td>35835</td>\n",
       "      <td>20940</td>\n",
       "      <td>19146</td>\n",
       "      <td>19131</td>\n",
       "      <td>2000</td>\n",
       "      <td>36681</td>\n",
       "      <td>10000</td>\n",
       "      <td>9000</td>\n",
       "      <td>689</td>\n",
       "      <td>679</td>\n",
       "      <td>0</td>\n",
       "    </tr>\n",
       "  </tbody>\n",
       "</table>\n",
       "</div>"
      ],
      "text/plain": [
       "   ID  LIMIT_BAL  SEX  EDUCATION  MARRIAGE  AGE  PAY_0  PAY_2  PAY_3  PAY_4  \\\n",
       "0   1      20000    2          2         1   24      2      2      0      0   \n",
       "1   2     120000    2          2         2   26      0      2      0      0   \n",
       "2   3      90000    2          2         2   34      0      0      0      0   \n",
       "3   4      50000    2          2         1   37      0      0      0      0   \n",
       "4   5      50000    1          2         1   57      0      0      0      0   \n",
       "\n",
       "   PAY_5  PAY_6  BILL_AMT1  BILL_AMT2  BILL_AMT3  BILL_AMT4  BILL_AMT5  \\\n",
       "0      0      0       3913       3102        689          0          0   \n",
       "1      0      2       2682       1725       2682       3272       3455   \n",
       "2      0      0      29239      14027      13559      14331      14948   \n",
       "3      0      0      46990      48233      49291      28314      28959   \n",
       "4      0      0       8617       5670      35835      20940      19146   \n",
       "\n",
       "   BILL_AMT6  PAY_AMT1  PAY_AMT2  PAY_AMT3  PAY_AMT4  PAY_AMT5  PAY_AMT6  \\\n",
       "0          0         0       689         0         0         0         0   \n",
       "1       3261         0      1000      1000      1000         0      2000   \n",
       "2      15549      1518      1500      1000      1000      1000      5000   \n",
       "3      29547      2000      2019      1200      1100      1069      1000   \n",
       "4      19131      2000     36681     10000      9000       689       679   \n",
       "\n",
       "   default  \n",
       "0        1  \n",
       "1        1  \n",
       "2        0  \n",
       "3        0  \n",
       "4        0  "
      ]
     },
     "execution_count": 4,
     "metadata": {},
     "output_type": "execute_result"
    }
   ],
   "source": [
    "pd.set_option('display.max_columns', None)\n",
    "credit_story.head()"
   ]
  },
  {
   "cell_type": "markdown",
   "id": "246bb3fd",
   "metadata": {},
   "source": [
    "# 1. Размер кредитного лимита (LIMIT_BAL)."
   ]
  },
  {
   "cell_type": "markdown",
   "id": "24a7ecdd",
   "metadata": {},
   "source": [
    "Размер кредитного лимита (LIMIT_BAL). В двух группах, тех людей, кто вернул кредит (default = 0) и тех, кто его не вернул (default = 1) проверьте гипотезы: a) о равенстве медианных значений кредитного лимита с помощью подходящей интервальной оценки; b) о равенстве распределений с помощью одного из подходящих непараметрических критериев проверки равенства средних. Значимы ли полученные результаты с практической точки зрения?"
   ]
  },
  {
   "cell_type": "markdown",
   "id": "7954a882",
   "metadata": {},
   "source": [
    "LIMIT_BAL: размер кредитного лимита (в том числе и на семью клиента)"
   ]
  },
  {
   "cell_type": "code",
   "execution_count": 5,
   "id": "fc75962b",
   "metadata": {},
   "outputs": [
    {
     "data": {
      "image/png": "[encoded data removed]",
      "text/plain": [
       "<Figure size 1080x504 with 2 Axes>"
      ]
     },
     "metadata": {
      "needs_background": "light"
     },
     "output_type": "display_data"
    }
   ],
   "source": [
    "#histogram of LIMIT_BAL distribution\n",
    "_ = plt.figure(1, figsize=(15,7))\n",
    "\n",
    "_ = plt.subplot(121)\n",
    "_ = plt.title('Histogram of LIMIT_BALL')\n",
    "_ = plt.hist(credit_story['LIMIT_BAL'], edgecolor='k')\n",
    "\n",
    "_ = plt.subplot(122)\n",
    "_ = plt.title('Histogram of LIMIT_BALL for default = 0 / 1')\n",
    "_ = plt.hist(credit_story.LIMIT_BAL.loc[credit_story.default == 0], edgecolor='k', label='Default = 0')\n",
    "_ = plt.hist(credit_story.LIMIT_BAL.loc[credit_story.default == 1], edgecolor='k', label='Default = 1')\n",
    "_ = plt.legend()"
   ]
  },
  {
   "cell_type": "markdown",
   "id": "ac40ad6e",
   "metadata": {},
   "source": [
    "Доля небольших невозвратных кредитов заметно выше. Большие суммы люди стремятся возвращать."
   ]
  },
  {
   "cell_type": "markdown",
   "id": "936f422e",
   "metadata": {},
   "source": [
    "### Проверим гипотезу о равенстве медианных значений кредитного лимита с помощью подходящей интервальной оценки."
   ]
  },
  {
   "cell_type": "markdown",
   "id": "9e5259a4",
   "metadata": {},
   "source": [
    "- H0: медианные значения равны\n",
    "- H1: медианные значения отличаются"
   ]
  },
  {
   "cell_type": "code",
   "execution_count": 7,
   "id": "0d8a01e7",
   "metadata": {},
   "outputs": [
    {
     "name": "stdout",
     "output_type": "stream",
     "text": [
      "Median LIMIT_BAL for default = 0: 150000\n",
      "Median LIMIT_BAL for default = 1: 90000\n"
     ]
    }
   ],
   "source": [
    "#samples of LIMIT_BAL for default = 0/1\n",
    "lim_bal_0 = credit_story.LIMIT_BAL.loc[credit_story.default == 0]\n",
    "lim_bal_1 = credit_story.LIMIT_BAL.loc[credit_story.default == 1]\n",
    "\n",
    "print('Median LIMIT_BAL for default = 0: %.0f' % lim_bal_0.median())\n",
    "print('Median LIMIT_BAL for default = 1: %.0f' % lim_bal_1.median())"
   ]
  },
  {
   "cell_type": "markdown",
   "id": "a051bdf6",
   "metadata": {},
   "source": [
    "## Биномиальное распределение (точный способ)"
   ]
  },
  {
   "cell_type": "code",
   "execution_count": 8,
   "id": "28d7f06d",
   "metadata": {},
   "outputs": [],
   "source": [
    "def zconfint_binom(n, p, alpha=0.05):\n",
    "    q = 1 - p\n",
    "    m = n * p\n",
    "    var = n * p * q\n",
    "    z_stat = stats.norm.ppf(1 - alpha / 2)\n",
    "    l_bound = int(round(m - z_stat * np.sqrt(var)))\n",
    "    u_bound = int(round(m + z_stat * np.sqrt(var)))\n",
    "    return (l_bound, u_bound)"
   ]
  },
  {
   "cell_type": "code",
   "execution_count": 9,
   "id": "bc50787c",
   "metadata": {},
   "outputs": [
    {
     "name": "stdout",
     "output_type": "stream",
     "text": [
      "Conf. int. median LIMIT_BAL for default = 0: [150000, 150000]\n",
      "Conf. int. median LIMIT_BAL for default = 1: [80000, 90000]\n"
     ]
    }
   ],
   "source": [
    "#confidence intervals estimation\n",
    "lim_bal_0_s = np.sort(lim_bal_0.values)\n",
    "lim_bal_1_s = np.sort(lim_bal_1.values)\n",
    "\n",
    "l_ind_0, u_ind_0 = zconfint_binom(len(lim_bal_0_s), 0.5)\n",
    "l_ind_1, u_ind_1 = zconfint_binom(len(lim_bal_1_s), 0.5)\n",
    "\n",
    "print('Conf. int. median LIMIT_BAL for default = 0: [%d, %d]' % (lim_bal_0_s[l_ind_0], lim_bal_0_s[u_ind_0]))\n",
    "print('Conf. int. median LIMIT_BAL for default = 1: [%d, %d]' % (lim_bal_1_s[l_ind_1], lim_bal_1_s[u_ind_1]))"
   ]
  },
  {
   "cell_type": "markdown",
   "id": "a56ae908",
   "metadata": {},
   "source": [
    "## Бутстрэп (приближённый способ)"
   ]
  },
  {
   "cell_type": "code",
   "execution_count": 10,
   "id": "477337c2",
   "metadata": {},
   "outputs": [],
   "source": [
    "def get_bootstrap_samples(data, n_samples):\n",
    "    indices = np.random.randint(0, len(data), (n_samples, len(data)))\n",
    "    samples = data[indices]\n",
    "    return samples"
   ]
  },
  {
   "cell_type": "code",
   "execution_count": 11,
   "id": "383e94ec",
   "metadata": {},
   "outputs": [],
   "source": [
    "def stat_intervals(stat, alpha):\n",
    "    boundaries = np.percentile(stat, [100 * alpha / 2., 100 * (1 - alpha / 2.)])\n",
    "    return boundaries"
   ]
  },
  {
   "cell_type": "code",
   "execution_count": 13,
   "id": "56dd826c",
   "metadata": {},
   "outputs": [
    {
     "name": "stdout",
     "output_type": "stream",
     "text": [
      "Conf. int. median LIMIT_BAL for default = 0: [150000, 150000]\n",
      "Conf. int. median LIMIT_BAL for default = 1: [80000, 90000]\n"
     ]
    }
   ],
   "source": [
    "#confidence intervals estimation\n",
    "np.random.seed(0)\n",
    "\n",
    "lim_bal_0_bs_med = list(map(np.median, get_bootstrap_samples(lim_bal_0.values, 100)))\n",
    "lim_bal_1_bs_med = list(map(np.median, get_bootstrap_samples(lim_bal_1.values, 100)))\n",
    "\n",
    "bnd_0 = stat_intervals(lim_bal_0_bs_med, 0.05)\n",
    "bnd_1 = stat_intervals(lim_bal_1_bs_med, 0.05)\n",
    "\n",
    "print('Conf. int. median LIMIT_BAL for default = 0: [%d, %d]' % (bnd_0[0], bnd_0[1]))\n",
    "print('Conf. int. median LIMIT_BAL for default = 1: [%d, %d]' % (bnd_1[0], bnd_1[1]))"
   ]
  },
  {
   "cell_type": "markdown",
   "id": "ee218898",
   "metadata": {},
   "source": [
    "Как видно из интервальной оценки, медианы не совпадают. Заёмщики, которые не возвращают кредит, обычно берут меньшую сумму."
   ]
  },
  {
   "cell_type": "markdown",
   "id": "4f1d1dc3",
   "metadata": {},
   "source": [
    "## Проверим гипотезу о равенстве распределений с помощью одного из подходящих непараметрических критериев проверки равенства средних."
   ]
  },
  {
   "cell_type": "markdown",
   "id": "a24969f3",
   "metadata": {},
   "source": [
    "Для проверки гипотезы подойдёт перестановочный критерий для независимых выборок."
   ]
  },
  {
   "cell_type": "markdown",
   "id": "c36af164",
   "metadata": {},
   "source": [
    "- H0: распределения выборок полностью равны\n",
    "- H1: распределения выборок отличаются на величину сдвига"
   ]
  },
  {
   "cell_type": "code",
   "execution_count": 23,
   "id": "313df599",
   "metadata": {},
   "outputs": [],
   "source": [
    "def permutation_t_stat_ind(sample1, sample2):\n",
    "    sample1 = list(sample1)\n",
    "    sample2 = list(sample2)\n",
    "    return np.mean(sample1) - np.mean(sample2)"
   ]
  },
  {
   "cell_type": "code",
   "execution_count": 28,
   "id": "ee4fa080",
   "metadata": {},
   "outputs": [],
   "source": [
    "def get_random_combinations(n1, n2, max_combinations):\n",
    "    index = list(range(n1 + n2))\n",
    "    indices = set([tuple(index)])\n",
    "    for i in range(max_combinations - 1):\n",
    "        np.random.shuffle(index)\n",
    "        indices.add(tuple(index))\n",
    "    return [(index[:n1], index[n1:]) for index in indices]"
   ]
  },
  {
   "cell_type": "code",
   "execution_count": 33,
   "id": "568cd569",
   "metadata": {},
   "outputs": [],
   "source": [
    "def permutation_zero_dist_ind(sample1, sample2, max_combinations=None):\n",
    "    sample1 = list(sample1)\n",
    "    sample2 = list(sample2)\n",
    "    joined_sample = np.hstack((sample1, sample2))\n",
    "    n1 = len(sample1)\n",
    "    n = len(joined_sample)\n",
    "    \n",
    "    if max_combinations:\n",
    "        indices = get_random_combinations(n1, len(sample2), max_combinations)\n",
    "    else:\n",
    "        indices = [(list(index), filter(lambda i: i not in index, list(range(n)))) \\\n",
    "                    for index in itertools.combinations(list(range(n)), n1)]\n",
    "    \n",
    "    distr = [joined_sample[list(i[0])].mean() - joined_sample[list(i[1])].mean() \\\n",
    "             for i in indices]\n",
    "    return distr"
   ]
  },
  {
   "cell_type": "code",
   "execution_count": 34,
   "id": "a9a554c3",
   "metadata": {},
   "outputs": [],
   "source": [
    "def permutation_test(sample1, sample2, max_permutations=None, alternative='two-sided'):\n",
    "    sample1 = list(sample1)\n",
    "    sample2 = list(sample2)\n",
    "    if alternative not in ('two-sided', 'less', 'greater'):\n",
    "        raise ValueError(\"alternative not recognized\\n\"\n",
    "                         \"should be 'two-sided', 'less' or 'greater'\")\n",
    "    \n",
    "    t_stat = permutation_t_stat_ind(sample1, sample2)\n",
    "    \n",
    "    zero_distr = permutation_zero_dist_ind(sample1, sample2, max_permutations)\n",
    "    \n",
    "    if alternative == 'two-sided':\n",
    "        return sum([1. if abs(x) >= abs(t_stat) else 0. for x in zero_distr]) / len(zero_distr)\n",
    "    \n",
    "    if alternative == 'less':\n",
    "        return sum([1. if x <= t_stat else 0. for x in zero_distr]) / len(zero_distr)\n",
    "\n",
    "    if alternative == 'greater':\n",
    "        return sum([1. if x >= t_stat else 0. for x in zero_distr]) / len(zero_distr)"
   ]
  },
  {
   "cell_type": "code",
   "execution_count": 35,
   "id": "7db20442",
   "metadata": {},
   "outputs": [
    {
     "name": "stdout",
     "output_type": "stream",
     "text": [
      "p-value: 0.001000\n"
     ]
    }
   ],
   "source": [
    "print('p-value: %f' % permutation_test(lim_bal_0, lim_bal_1, max_permutations=1000))"
   ]
  },
  {
   "cell_type": "markdown",
   "id": "5a8a47bb",
   "metadata": {},
   "source": [
    "P-value получается довольно маленьким и нулевая гипотеза отвергается на уровне значимости 0.05.\n",
    "Результат является практически значимым, потому что разница в значениях медианы LIMIT_BAL значимо большая."
   ]
  },
  {
   "cell_type": "markdown",
   "id": "9a2b2841",
   "metadata": {},
   "source": [
    "# 2. Пол (SEX)."
   ]
  },
  {
   "cell_type": "markdown",
   "id": "9246e7ad",
   "metadata": {},
   "source": [
    "Пол (SEX). Проверьте гипотезу о том, что гендерный состав группы людей вернувших и не вернувших кредит отличается. Хорошо, если вы предоставите несколько различных решений этой задачи (с помощью доверительного интервала и подходящего статистического критерия)."
   ]
  },
  {
   "cell_type": "markdown",
   "id": "08db09d1",
   "metadata": {},
   "source": [
    "SEX: пол клиента (1 = мужской, 2 = женский )"
   ]
  },
  {
   "cell_type": "code",
   "execution_count": 36,
   "id": "6cee8d24",
   "metadata": {},
   "outputs": [
    {
     "data": {
      "image/png": "[encoded data removed]",
      "text/plain": [
       "<Figure size 1080x504 with 2 Axes>"
      ]
     },
     "metadata": {
      "needs_background": "light"
     },
     "output_type": "display_data"
    }
   ],
   "source": [
    "#histogram of SEX distribution\n",
    "_ = plt.figure(1, figsize=(15,7))\n",
    "\n",
    "_ = plt.subplot(121)\n",
    "_ = plt.title('Histogram of SEX')\n",
    "_ = plt.hist(credit_story['SEX'], edgecolor='k')\n",
    "\n",
    "_ = plt.subplot(122)\n",
    "_ = plt.title('Histogram of SEX for default = 0 / 1')\n",
    "_ = plt.hist(credit_story.SEX.loc[credit_story.default == 0], edgecolor='k', label='Default = 0')\n",
    "_ = plt.hist(credit_story.SEX.loc[credit_story.default == 1], edgecolor='k', label='Default = 1')\n",
    "_ = plt.legend()"
   ]
  },
  {
   "cell_type": "markdown",
   "id": "3536dda4",
   "metadata": {},
   "source": [
    "Женщины более склонны к невозврату кредита, чем мужчины."
   ]
  },
  {
   "cell_type": "markdown",
   "id": "d9d46900",
   "metadata": {},
   "source": [
    "### Проверим гипотезу о том, что гендерный состав группы людей вернувших и не вернувших кредит отличается."
   ]
  },
  {
   "cell_type": "markdown",
   "id": "17003ce6",
   "metadata": {},
   "source": [
    "Построим доверительные интервалы для доли вернувших, не вернувших и для их разности."
   ]
  },
  {
   "cell_type": "code",
   "execution_count": 37,
   "id": "f55dacff",
   "metadata": {},
   "outputs": [
    {
     "name": "stdout",
     "output_type": "stream",
     "text": [
      "Prop. of men for default = 0: 0.3859\n",
      "Prop. of men for default = 1: 0.4329\n"
     ]
    }
   ],
   "source": [
    "#samples of SEX for default = 0/1\n",
    "sex_0 = credit_story.SEX.loc[credit_story.default == 0].values\n",
    "sex_1 = credit_story.SEX.loc[credit_story.default == 1].values\n",
    "\n",
    "#proportions of men to women in samples\n",
    "m_to_w_0 = np.where(sex_0 == 1)[0].shape[0] / sex_0.shape[0]\n",
    "m_to_w_1 = np.where(sex_1 == 1)[0].shape[0] / sex_1.shape[0]\n",
    "\n",
    "print('Prop. of men for default = 0: %.4f' % m_to_w_0)\n",
    "print('Prop. of men for default = 1: %.4f' % m_to_w_1)"
   ]
  },
  {
   "cell_type": "markdown",
   "id": "dd5a7cd0",
   "metadata": {},
   "source": [
    "Воспользуемя доверительным интервалом на основе нормального распределения."
   ]
  },
  {
   "cell_type": "code",
   "execution_count": 38,
   "id": "94ce50b8",
   "metadata": {},
   "outputs": [
    {
     "name": "stdout",
     "output_type": "stream",
     "text": [
      "Conf. int. for prop. of men or default = 0: [0.3796, 0.3921]\n",
      "Conf. int. for prop. of men or default = 1: [0.4210, 0.4449]\n"
     ]
    }
   ],
   "source": [
    "#confident intervals for proportions\n",
    "conf_int_0 = proportion_confint(np.where(sex_0 == 1)[0].shape[0], sex_0.shape[0])\n",
    "conf_int_1 = proportion_confint(np.where(sex_1 == 1)[0].shape[0], sex_1.shape[0])\n",
    "\n",
    "print('Conf. int. for prop. of men or default = 0: [%.4f, %.4f]' % conf_int_0)\n",
    "print('Conf. int. for prop. of men or default = 1: [%.4f, %.4f]' % conf_int_1)"
   ]
  },
  {
   "cell_type": "markdown",
   "id": "2e9047fa",
   "metadata": {},
   "source": [
    "Как видно из интервальных оценок, сами интервалы не пересекаются, следовательно гендерный состав различается."
   ]
  },
  {
   "cell_type": "markdown",
   "id": "fc2a1268",
   "metadata": {},
   "source": [
    "Построим доверительный интервал для разности двух долей независимых выборок."
   ]
  },
  {
   "cell_type": "code",
   "execution_count": 39,
   "id": "80497048",
   "metadata": {},
   "outputs": [],
   "source": [
    "def proportions_confint_diff_ind(sample1, sample2, alpha = 0.05):    \n",
    "    z = stats.norm.ppf(1 - alpha / 2.)   \n",
    "    p1 = float(sum(sample1)) / len(sample1)\n",
    "    p2 = float(sum(sample2)) / len(sample2)\n",
    "    \n",
    "    left_boundary = (p1 - p2) - z * np.sqrt(p1 * (1 - p1) / len(sample1) + p2 * (1 - p2) / len(sample2))\n",
    "    right_boundary = (p1 - p2) + z * np.sqrt(p1 * (1 - p1) / len(sample1) + p2 * (1 - p2) / len(sample2))\n",
    "    \n",
    "    return (left_boundary, right_boundary)"
   ]
  },
  {
   "cell_type": "code",
   "execution_count": 40,
   "id": "322b2a65",
   "metadata": {},
   "outputs": [
    {
     "name": "stdout",
     "output_type": "stream",
     "text": [
      "Conf. int. for difference: [-0.060548, -0.033635]\n"
     ]
    }
   ],
   "source": [
    "print('Conf. int. for difference: [%f, %f]' % proportions_confint_diff_ind(np.abs(sex_0-2), np.abs(sex_1-2)))"
   ]
  },
  {
   "cell_type": "markdown",
   "id": "1638644d",
   "metadata": {},
   "source": [
    "### Используем статистический Z-критерий для доли для двух независимых выборок."
   ]
  },
  {
   "cell_type": "markdown",
   "id": "0d8d4e0b",
   "metadata": {},
   "source": [
    "- H0: гендерный состав не отличается\n",
    "- H1: гендерный состав отличается"
   ]
  },
  {
   "cell_type": "code",
   "execution_count": 42,
   "id": "18c79156",
   "metadata": {},
   "outputs": [],
   "source": [
    "def proportions_diff_z_stat_ind(sample1, sample2):\n",
    "    n1 = len(sample1)\n",
    "    n2 = len(sample2)\n",
    "    \n",
    "    p1 = float(sum(sample1)) / n1\n",
    "    p2 = float(sum(sample2)) / n2 \n",
    "    P = float(p1*n1 + p2*n2) / (n1 + n2)\n",
    "    \n",
    "    return (p1 - p2) / np.sqrt(P * (1 - P) * (1. / n1 + 1. / n2))"
   ]
  },
  {
   "cell_type": "code",
   "execution_count": 43,
   "id": "26a57817",
   "metadata": {},
   "outputs": [],
   "source": [
    "def proportions_diff_z_test(z_stat, alternative='two-sided'):\n",
    "    if alternative not in ('two-sided', 'less', 'greater'):\n",
    "        raise ValueError(\"alternative not recognized\\n\"\n",
    "                         \"should be 'two-sided', 'less' or 'greater'\")\n",
    "    \n",
    "    if alternative == 'two-sided':\n",
    "        return 2 * (1 - stats.norm.cdf(np.abs(z_stat)))\n",
    "    \n",
    "    if alternative == 'less':\n",
    "        return stats.norm.cdf(z_stat)\n",
    "\n",
    "    if alternative == 'greater':\n",
    "        return 1 - stats.norm.cdf(z_stat)"
   ]
  },
  {
   "cell_type": "code",
   "execution_count": 44,
   "id": "1484bebd",
   "metadata": {},
   "outputs": [
    {
     "name": "stdout",
     "output_type": "stream",
     "text": [
      "p-value: 0.000000000004473\n"
     ]
    }
   ],
   "source": [
    "print('p-value: %.15f' % proportions_diff_z_test(proportions_diff_z_stat_ind(np.abs(sex_0-2), np.abs(sex_1-2))))"
   ]
  },
  {
   "cell_type": "markdown",
   "id": "a5395b43",
   "metadata": {},
   "source": [
    "Гипотеза о равенстве гендерного распределния отвергается. Данный результат явлется и практически значимым, т.к. 6% существенная величина для банков."
   ]
  },
  {
   "cell_type": "markdown",
   "id": "a94487d6",
   "metadata": {},
   "source": [
    "# 3. Образование (EDUCATION)."
   ]
  },
  {
   "cell_type": "markdown",
   "id": "79e5555b",
   "metadata": {},
   "source": [
    "Образование (EDUCATION). Проверьте гипотезу о том, что образование не влияет на то, вернет ли человек долг. Предложите способ наглядного представления разницы в ожидаемых и наблюдаемых значениях количества человек вернувших и не вернувших долг. Например, составьте таблицу сопряженности \"образование\" на \"возврат долга\", где значением ячейки была бы разность между наблюдаемым и ожидаемым количеством человек. Как бы вы предложили модифицировать таблицу так, чтобы привести значения ячеек к одному масштабу не потеряв в интерпретируемости? Наличие какого образования является наилучшим индикатором того, что человек отдаст долг? наоборт, не отдаст долг?"
   ]
  },
  {
   "cell_type": "markdown",
   "id": "632540f2",
   "metadata": {},
   "source": [
    "EDUCATION: образование (0 = доктор, 1 = магистр; 2 = бакалавр; 3 = выпускник школы; 4 = начальное образование; 5 = прочее; 6 = нет данных)"
   ]
  },
  {
   "cell_type": "code",
   "execution_count": 45,
   "id": "cb9d9aa5",
   "metadata": {},
   "outputs": [
    {
     "data": {
      "image/png": "[encoded data removed]",
      "text/plain": [
       "<Figure size 1080x504 with 2 Axes>"
      ]
     },
     "metadata": {
      "needs_background": "light"
     },
     "output_type": "display_data"
    }
   ],
   "source": [
    "#histogram of EDUCATION distribution\n",
    "_ = plt.figure(1, figsize=(15,7))\n",
    "\n",
    "_ = plt.subplot(121)\n",
    "_ = plt.title('Histogram of EDUCATION')\n",
    "_ = plt.hist(credit_story['EDUCATION'], edgecolor='k')\n",
    "\n",
    "_ = plt.subplot(122)\n",
    "_ = plt.title('Histogram of EDUCATION for default = 0 / 1')\n",
    "_ = plt.hist(credit_story.EDUCATION.loc[credit_story.default == 0], edgecolor='k', label='Default = 0')\n",
    "_ = plt.hist(credit_story.EDUCATION.loc[credit_story.default == 1], edgecolor='k', label='Default = 1')\n",
    "_ = plt.legend()"
   ]
  },
  {
   "cell_type": "markdown",
   "id": "5d4309b7",
   "metadata": {},
   "source": [
    "В основном берут кредиты люди с BS и MS. Принципиальная разница между распределниями тех, кто вернул, и тех, кто нет, не наблюдается."
   ]
  },
  {
   "cell_type": "markdown",
   "id": "aa2f6ad7",
   "metadata": {},
   "source": [
    "### Проверим гипотезу о том, что образование не влияет на то, вернет ли человек долг."
   ]
  },
  {
   "cell_type": "markdown",
   "id": "6522d449",
   "metadata": {},
   "source": [
    "Построим график долей возврата кредитов."
   ]
  },
  {
   "cell_type": "code",
   "execution_count": 46,
   "id": "4874e05b",
   "metadata": {},
   "outputs": [
    {
     "name": "stdout",
     "output_type": "stream",
     "text": [
      "Prop. of def.=0 for education=0: 1.00\n",
      "Prop. of def.=0 for education=1: 0.81\n",
      "Prop. of def.=0 for education=2: 0.76\n",
      "Prop. of def.=0 for education=3: 0.75\n",
      "Prop. of def.=0 for education=4: 0.94\n",
      "Prop. of def.=0 for education=5: 0.94\n",
      "Prop. of def.=0 for education=6: 0.84\n"
     ]
    },
    {
     "data": {
      "image/png": "[encoded data removed]",
      "text/plain": [
       "<Figure size 504x504 with 1 Axes>"
      ]
     },
     "metadata": {
      "needs_background": "light"
     },
     "output_type": "display_data"
    }
   ],
   "source": [
    "#samples of EDUCATION for default = 0/1\n",
    "edu = credit_story.EDUCATION\n",
    "edu_0 = credit_story.EDUCATION.loc[credit_story.default == 0]\n",
    "edu_1 = credit_story.EDUCATION.loc[credit_story.default == 1]\n",
    "\n",
    "#proportions of credit returns\n",
    "edu_prop = np.empty( (len(np.unique(edu_0)), 2) )\n",
    "for i, ed_val in enumerate(np.unique(edu)):\n",
    "    edu_prop[i, 0] = ed_val\n",
    "    edu_prop[i, 1] = edu_0[edu_0 == ed_val].shape[0] / (edu_0[edu_0 == ed_val].shape[0] + edu_1[edu_1 == ed_val].shape[0])\n",
    "\n",
    "for ed_val, prop in edu_prop:\n",
    "    print('Prop. of def.=0 for education=%d: %.2f' % (ed_val, prop))\n",
    "\n",
    "#histogram of EDUCATION proportions distribution\n",
    "_ = plt.figure(1, figsize=(7,7))\n",
    "_ = plt.title('Proportion histogram of EDUCATION')\n",
    "_ = plt.plot(edu_prop[:,0], edu_prop[:,1])\n",
    "_ = plt.axis([0, 6, 0.5, 1])"
   ]
  },
  {
   "cell_type": "markdown",
   "id": "fa070703",
   "metadata": {},
   "source": [
    "Исходя из графика видно, что распределние не является равномерным, следовательно, образование влияет на то, вернёт ли человек долг. Реже всего возвращают долги категории 2 и 3 (бакалавры и выпускники школ). Возвращают практически все долги только люди с докторской степенью."
   ]
  },
  {
   "cell_type": "markdown",
   "id": "bfebd716",
   "metadata": {},
   "source": [
    "## Произведём строгую проверку на соответствие данного распределения равномерному с помощью критерия согласия Пирсона хи-квадрат."
   ]
  },
  {
   "cell_type": "markdown",
   "id": "df9fc7ff",
   "metadata": {},
   "source": [
    "- H0: рассматривая величина имеет равномерное распределение\n",
    "- H1: H0 не верна"
   ]
  },
  {
   "cell_type": "markdown",
   "id": "dc4725e7",
   "metadata": {},
   "source": [
    "Посчитаем среднее значение доли возврата кредитов среди различных уровней образования. Будем использовать эту оценку для построения ожидаемого равномерного распределения.\n",
    "\n"
   ]
  },
  {
   "cell_type": "code",
   "execution_count": 47,
   "id": "5ddfe34d",
   "metadata": {},
   "outputs": [
    {
     "name": "stdout",
     "output_type": "stream",
     "text": [
      "Mean proportion value: 0.86\n"
     ]
    }
   ],
   "source": [
    "prop_mean = edu_prop[:,1].mean()\n",
    "print('Mean proportion value: %.2f' % prop_mean)"
   ]
  },
  {
   "cell_type": "code",
   "execution_count": 48,
   "id": "069fc608",
   "metadata": {},
   "outputs": [
    {
     "name": "stdout",
     "output_type": "stream",
     "text": [
      "Edu lvl 0: 14 / 0 | 14\n",
      "Edu lvl 1: 8549 / 2036 | 10585\n",
      "Edu lvl 2: 10700 / 3330 | 14030\n",
      "Edu lvl 3: 3680 / 1237 | 4917\n",
      "Edu lvl 4: 116 / 7 | 123\n",
      "Edu lvl 5: 262 / 18 | 280\n",
      "Edu lvl 6: 43 / 8 | 51\n",
      "Legend: deafault = 0 / default = 1 | total\n"
     ]
    }
   ],
   "source": [
    "#sample sizes for different education levels\n",
    "edu_num_0 = np.array([edu_0[edu_0 == ed_val].shape[0] for ed_val in range(7)])\n",
    "edu_num_1 = np.array([edu_1[edu_1 == ed_val].shape[0] for ed_val in range(7)])\n",
    "edu_num = edu_num_0 + edu_num_1\n",
    "\n",
    "for i in range(7):\n",
    "    print('Edu lvl %d: %d / %d | %d' % (i, edu_num_0[i], edu_num_1[i], edu_num[i]))\n",
    "print('Legend: deafault = 0 / default = 1 | total')"
   ]
  },
  {
   "cell_type": "markdown",
   "id": "846a5e03",
   "metadata": {},
   "source": [
    "Составим таблицу сопряжённости \"образование\" на \"возврат долга\", где значением ячейки была бы разность между наблюдаемым и ожидаемым количеством человек."
   ]
  },
  {
   "cell_type": "code",
   "execution_count": 49,
   "id": "468232ad",
   "metadata": {},
   "outputs": [
    {
     "name": "stdout",
     "output_type": "stream",
     "text": [
      "Edu lvl 0: 12 / 14 | 1\n",
      "Edu lvl 1: 9134 / 8549 | -585\n",
      "Edu lvl 2: 12107 / 10700 | -1407\n",
      "Edu lvl 3: 4243 / 3680 | -563\n",
      "Edu lvl 4: 106 / 116 | 9\n",
      "Edu lvl 5: 241 / 262 | 20\n",
      "Edu lvl 6: 44 / 43 | -1\n",
      "Legend: exp freq / obs freq = 1 | delta\n"
     ]
    }
   ],
   "source": [
    "#expected frequencies\n",
    "exp_freq = np.array([prop_mean * edu_num[i] for i in range(7)])\n",
    "\n",
    "for i in range(7):\n",
    "    print('Edu lvl %d: %d / %d | %d' % (i, exp_freq[i], edu_num_0[i], edu_num_0[i] - exp_freq[i]))\n",
    "print('Legend: exp freq / obs freq = 1 | delta')"
   ]
  },
  {
   "cell_type": "code",
   "execution_count": 50,
   "id": "608948f8",
   "metadata": {},
   "outputs": [
    {
     "data": {
      "text/plain": [
       "Power_divergenceResult(statistic=278.7725391716089, pvalue=3.653181595163598e-58)"
      ]
     },
     "execution_count": 50,
     "metadata": {},
     "output_type": "execute_result"
    }
   ],
   "source": [
    "#chi-square criterion\n",
    "stats.chisquare(edu_num_0, exp_freq, ddof = 1)"
   ]
  },
  {
   "cell_type": "markdown",
   "id": "f357a9f4",
   "metadata": {},
   "source": [
    "Гипотеза о том, что величина имеет равномерное распределение отвергается с очень высокой долей вероятности."
   ]
  },
  {
   "cell_type": "markdown",
   "id": "7126420b",
   "metadata": {},
   "source": [
    "Результат имеет практическую значимость для выдачи кредита, доли возврата значимо отличаются для разных уровней образования."
   ]
  },
  {
   "cell_type": "markdown",
   "id": "860bda81",
   "metadata": {},
   "source": [
    "# 4. Семейное положение (MARRIAGE)."
   ]
  },
  {
   "cell_type": "markdown",
   "id": "7334bff8",
   "metadata": {},
   "source": [
    "Семейное положение (MARRIAGE). Проверьте, как связан семейный статус с индикатором дефолта: нужно предложить меру, по которой можно измерить возможную связь этих переменных и посчитать ее значение."
   ]
  },
  {
   "cell_type": "markdown",
   "id": "30417f3d",
   "metadata": {},
   "source": [
    "MARRIAGE: (0 = отказываюсь отвечать; 1 = замужем/женат; 2 = холост; 3 = нет данных)."
   ]
  },
  {
   "cell_type": "code",
   "execution_count": 51,
   "id": "4eb3adaf",
   "metadata": {},
   "outputs": [
    {
     "data": {
      "image/png": "[encoded data removed]",
      "text/plain": [
       "<Figure size 1080x504 with 2 Axes>"
      ]
     },
     "metadata": {
      "needs_background": "light"
     },
     "output_type": "display_data"
    }
   ],
   "source": [
    "#histogram of MARRIAGE distribution\n",
    "_ = plt.figure(1, figsize=(15,7))\n",
    "\n",
    "_ = plt.subplot(121)\n",
    "_ = plt.title('Histogram of MARRIAGE')\n",
    "_ = plt.hist(credit_story['MARRIAGE'], edgecolor='k')\n",
    "\n",
    "_ = plt.subplot(122)\n",
    "_ = plt.title('Histogram of MARRIAGE for default = 0 / 1')\n",
    "_ = plt.hist(credit_story.MARRIAGE.loc[credit_story.default == 0], edgecolor='k', label='Default = 0')\n",
    "_ = plt.hist(credit_story.MARRIAGE.loc[credit_story.default == 1], edgecolor='k', label='Default = 1')\n",
    "_ = plt.legend()"
   ]
  },
  {
   "cell_type": "markdown",
   "id": "137cdcb1",
   "metadata": {},
   "source": [
    "Доли невозвратов среди женатых и холостых людей различается примерно на 10%."
   ]
  },
  {
   "cell_type": "markdown",
   "id": "2b1b608b",
   "metadata": {},
   "source": [
    "### Проверим, как связан семейный статус с индикатором дефолта."
   ]
  },
  {
   "cell_type": "code",
   "execution_count": 52,
   "id": "4d2bc557",
   "metadata": {},
   "outputs": [
    {
     "name": "stdout",
     "output_type": "stream",
     "text": [
      "Value counts for marriage:\n"
     ]
    },
    {
     "data": {
      "text/plain": [
       "2    15964\n",
       "1    13659\n",
       "3      323\n",
       "0       54\n",
       "Name: MARRIAGE, dtype: int64"
      ]
     },
     "execution_count": 52,
     "metadata": {},
     "output_type": "execute_result"
    }
   ],
   "source": [
    "#samples of MARRIAGE for default = 0/1\n",
    "mar = credit_story.MARRIAGE\n",
    "mar_0 = credit_story.MARRIAGE.loc[credit_story.default == 0]\n",
    "mar_1 = credit_story.MARRIAGE.loc[credit_story.default == 1]\n",
    "\n",
    "print('Value counts for marriage:')\n",
    "mar.value_counts()"
   ]
  },
  {
   "cell_type": "markdown",
   "id": "e6035d26",
   "metadata": {},
   "source": [
    "Составим таблицу сопряжённости для признаков default и MARRIAGE."
   ]
  },
  {
   "cell_type": "code",
   "execution_count": 53,
   "id": "192c7c59",
   "metadata": {},
   "outputs": [
    {
     "data": {
      "text/plain": [
       "array([[4.9000e+01, 5.0000e+00],\n",
       "       [1.0453e+04, 3.2060e+03],\n",
       "       [1.2623e+04, 3.3410e+03],\n",
       "       [2.3900e+02, 8.4000e+01]])"
      ]
     },
     "execution_count": 53,
     "metadata": {},
     "output_type": "execute_result"
    }
   ],
   "source": [
    "conf_table = np.empty( (len(mar.value_counts()), 2) )\n",
    "for i in range(len(mar.value_counts())):\n",
    "    conf_table[i, 0] = len(mar_0.loc[mar_0 == i])\n",
    "    conf_table[i, 1] = len(mar_1.loc[mar_1 == i])\n",
    "conf_table"
   ]
  },
  {
   "cell_type": "markdown",
   "id": "af9eb0e5",
   "metadata": {},
   "source": [
    "Вычислим коэффициент V Крамера."
   ]
  },
  {
   "cell_type": "code",
   "execution_count": 54,
   "id": "a335332b",
   "metadata": {},
   "outputs": [],
   "source": [
    "def cramers_stat(confusion_matrix):\n",
    "    chi2 = stats.chi2_contingency(confusion_matrix)[0]\n",
    "    n = confusion_matrix.sum()\n",
    "    return np.sqrt(chi2 / (n*(min(confusion_matrix.shape)-1)))"
   ]
  },
  {
   "cell_type": "code",
   "execution_count": 55,
   "id": "8f3ddb76",
   "metadata": {},
   "outputs": [
    {
     "name": "stdout",
     "output_type": "stream",
     "text": [
      "V Cramer stat value: 0.0345\n"
     ]
    }
   ],
   "source": [
    "print('V Cramer stat value: %.4f' % cramers_stat(conf_table))"
   ]
  },
  {
   "cell_type": "markdown",
   "id": "ed8b59ca",
   "metadata": {},
   "source": [
    "Коэффициент Крамера принимает значение, близкое к нулю, когда взаимосвязь отсутствует."
   ]
  },
  {
   "cell_type": "markdown",
   "id": "86a60167",
   "metadata": {},
   "source": [
    "Практическая значимость в данном результате также присутствует, т.к. исходя из этих данных нет разницы в том, с каким статусом MARRIAGE приходит человек за кредитом."
   ]
  },
  {
   "cell_type": "markdown",
   "id": "8a9f8a56",
   "metadata": {},
   "source": [
    "# 5. Возраст (AGE).\n"
   ]
  },
  {
   "cell_type": "markdown",
   "id": "d14a4f24",
   "metadata": {},
   "source": [
    "Возраст (AGE). Относительно двух групп людей вернувших и не вернувших кредит проверьте следующие гипотезы: a) о равенстве медианных значений возрастов людей; b) о равенстве распределений с помощью одного из подходящих непараметрических критериев проверки равенства средних. Значимы ли полученные результаты с практической точки зрения?"
   ]
  },
  {
   "cell_type": "code",
   "execution_count": 56,
   "id": "467af0f7",
   "metadata": {},
   "outputs": [
    {
     "data": {
      "image/png": "[encoded data removed]",
      "text/plain": [
       "<Figure size 1080x504 with 2 Axes>"
      ]
     },
     "metadata": {
      "needs_background": "light"
     },
     "output_type": "display_data"
    }
   ],
   "source": [
    "#histogram of AGE distribution\n",
    "_ = plt.figure(1, figsize=(15,7))\n",
    "\n",
    "_ = plt.subplot(121)\n",
    "_ = plt.title('Histogram of AGE')\n",
    "_ = plt.hist(credit_story['AGE'], edgecolor='k')\n",
    "\n",
    "_ = plt.subplot(122)\n",
    "_ = plt.title('Histogram of AGE for default = 0 / 1')\n",
    "_ = plt.hist(credit_story.AGE.loc[credit_story.default == 0], edgecolor='k', label='Default = 0')\n",
    "_ = plt.hist(credit_story.AGE.loc[credit_story.default == 1], edgecolor='k', label='Default = 1')\n",
    "_ = plt.legend()"
   ]
  },
  {
   "cell_type": "markdown",
   "id": "b6353d8d",
   "metadata": {},
   "source": [
    "Молодые люди склонные не возвращать кредиты. Доля тех, кто взял кредит в 20 лет и вернул его, меньше доли оных, которые не вернули кредит."
   ]
  },
  {
   "cell_type": "markdown",
   "id": "fb059ae6",
   "metadata": {},
   "source": [
    "### Проверим гипотезу о равенстве медианных значений кредитного лимита с помощью подходящей интервальной оценки."
   ]
  },
  {
   "cell_type": "markdown",
   "id": "8da900a0",
   "metadata": {},
   "source": [
    "- H0: медианные значения равны\n",
    "- H1: медианные значения отличаются"
   ]
  },
  {
   "cell_type": "code",
   "execution_count": 57,
   "id": "cd17fcc8",
   "metadata": {},
   "outputs": [
    {
     "name": "stdout",
     "output_type": "stream",
     "text": [
      "Median AGE for default = 0: 34\n",
      "Median AGE for default = 1: 34\n"
     ]
    }
   ],
   "source": [
    "#samples of AGE for default = 0/1\n",
    "age_0 = credit_story.AGE.loc[credit_story.default == 0]\n",
    "age_1 = credit_story.AGE.loc[credit_story.default == 1]\n",
    "\n",
    "print('Median AGE for default = 0: %.0f' % age_0.median())\n",
    "print('Median AGE for default = 1: %.0f' % age_1.median())"
   ]
  },
  {
   "cell_type": "markdown",
   "id": "c6b32728",
   "metadata": {},
   "source": [
    "### Доверительный интервал для медианы на основе бутстрепа."
   ]
  },
  {
   "cell_type": "code",
   "execution_count": 59,
   "id": "f4160d0c",
   "metadata": {},
   "outputs": [
    {
     "name": "stdout",
     "output_type": "stream",
     "text": [
      "Conf. int. median AGE for default = 0: [34.000000, 34.000000]\n",
      "Conf. int. median AGE for default = 1: [34.000000, 35.000000]\n"
     ]
    }
   ],
   "source": [
    "#confidence intervals estimation\n",
    "np.random.seed(0)\n",
    "\n",
    "age_0_bs_med = list(map(np.median, get_bootstrap_samples(age_0.values, 100)))\n",
    "age_1_bs_med = list(map(np.median, get_bootstrap_samples(age_1.values, 100)))\n",
    "\n",
    "bnd_0 = stat_intervals(age_0_bs_med, 0.05)\n",
    "bnd_1 = stat_intervals(age_1_bs_med, 0.05)\n",
    "\n",
    "print('Conf. int. median AGE for default = 0: [%f, %f]' % (bnd_0[0], bnd_0[1]))\n",
    "print('Conf. int. median AGE for default = 1: [%f, %f]' % (bnd_1[0], bnd_1[1]))"
   ]
  },
  {
   "cell_type": "markdown",
   "id": "1c451d50",
   "metadata": {},
   "source": [
    "Как видно из интервальной оценки, интервальные оценки для медианы пересекаются.\n",
    "\n"
   ]
  },
  {
   "cell_type": "markdown",
   "id": "e1d09919",
   "metadata": {},
   "source": [
    "### Построим интервальную оценку для разности медиан.\n"
   ]
  },
  {
   "cell_type": "code",
   "execution_count": 60,
   "id": "1d1ab77f",
   "metadata": {},
   "outputs": [
    {
     "name": "stdout",
     "output_type": "stream",
     "text": [
      "Difference between medians: 0.000000\n"
     ]
    }
   ],
   "source": [
    "print('Difference between medians: %f' % (np.median(age_0) - np.median(age_1)))"
   ]
  },
  {
   "cell_type": "code",
   "execution_count": 61,
   "id": "8d885d77",
   "metadata": {},
   "outputs": [],
   "source": [
    "delta_median_scores = map(lambda x: x[1] - x[0], zip(age_0_bs_med, age_1_bs_med))"
   ]
  },
  {
   "cell_type": "code",
   "execution_count": 63,
   "id": "216bb795",
   "metadata": {},
   "outputs": [
    {
     "name": "stdout",
     "output_type": "stream",
     "text": [
      "95% conf. int. for the difference between medians: [0.000000, 1.000000]\n"
     ]
    }
   ],
   "source": [
    "stat_int = stat_intervals(list(delta_median_scores, 0.05)\n",
    "print('95%% conf. int. for the difference between medians: [%f, %f]' % (stat_int[0], stat_int[1]))"
   ]
  },
  {
   "cell_type": "markdown",
   "id": "6699ebef",
   "metadata": {},
   "source": [
    "Поскольку доверительный интервал содержит ноль, значения медиан не различаются."
   ]
  },
  {
   "cell_type": "markdown",
   "id": "6193017b",
   "metadata": {},
   "source": [
    "### Проверим гипотезу о равенстве распределений с помощью одного из подходящих непараметрических критериев проверки равенства средних."
   ]
  },
  {
   "cell_type": "markdown",
   "id": "b9e0b52f",
   "metadata": {},
   "source": [
    "Для проверки гипотезы подойдёт перестановочный критерий для независимых выборок."
   ]
  },
  {
   "cell_type": "markdown",
   "id": "4980fd46",
   "metadata": {},
   "source": [
    "- H0: распределения выборок полностью равны\n",
    "- H1: распределения выборок отличаются на величину сдвига"
   ]
  },
  {
   "cell_type": "code",
   "execution_count": 65,
   "id": "9faadfae",
   "metadata": {},
   "outputs": [
    {
     "name": "stdout",
     "output_type": "stream",
     "text": [
      "p-value: 0.014000\n"
     ]
    }
   ],
   "source": [
    "print('p-value: %f' % permutation_test(age_0, age_1, max_permutations=1000))"
   ]
  },
  {
   "cell_type": "markdown",
   "id": "a1988ba6",
   "metadata": {},
   "source": [
    "P-value получается довольно маленьким и нулевая гипотеза отвергается на уровне значимости 0.05."
   ]
  },
  {
   "cell_type": "markdown",
   "id": "44fba851",
   "metadata": {},
   "source": [
    "Результат является практически значимым, потому что разница в распределениях видна невооружённым взглядом и эти данные могут учитываться при выдаче кредита."
   ]
  },
  {
   "cell_type": "code",
   "execution_count": null,
   "id": "b71e0c20",
   "metadata": {},
   "outputs": [],
   "source": []
  }
 ],
 "metadata": {
  "kernelspec": {
   "display_name": "Python 3",
   "language": "python",
   "name": "python3"
  },
  "language_info": {
   "codemirror_mode": {
    "name": "ipython",
    "version": 3
   },
   "file_extension": ".py",
   "mimetype": "text/x-python",
   "name": "python",
   "nbconvert_exporter": "python",
   "pygments_lexer": "ipython3",
   "version": "3.8.8"
  }
 },
 "nbformat": 4,
 "nbformat_minor": 5
}
